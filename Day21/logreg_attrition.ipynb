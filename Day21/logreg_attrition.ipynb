{
 "cells": [
  {
   "cell_type": "code",
   "execution_count": 9,
   "metadata": {},
   "outputs": [],
   "source": [
    "import pandas as pd\n",
    "import statsmodels.api as sm\n",
    "import numpy as np\n",
    "from sklearn import preprocessing"
   ]
  },
  {
   "cell_type": "code",
   "execution_count": 6,
   "metadata": {},
   "outputs": [],
   "source": [
    "attr_data=pd.read_csv('C:/Users/Manzoo/Learning/Day21/Assignments/dataset/general_data.csv')\n",
    "attr_data.head()\n",
    "attr_data.isnull().sum()\n",
    "attr_data=attr_data.fillna(attr_data.mean())"
   ]
  },
  {
   "cell_type": "code",
   "execution_count": 10,
   "metadata": {},
   "outputs": [],
   "source": [
    "label_encoder=preprocessing.LabelEncoder()"
   ]
  },
  {
   "cell_type": "code",
   "execution_count": 11,
   "metadata": {},
   "outputs": [],
   "source": [
    "attr_data['Gender']=label_encoder.fit_transform(attr_data['Gender'])\n",
    "attr_data['BusinessTravel']=label_encoder.fit_transform(attr_data['BusinessTravel'])\n",
    "attr_data['Department']=label_encoder.fit_transform(attr_data['Department'])\n",
    "attr_data['JobRole']=label_encoder.fit_transform(attr_data['JobRole'])\n",
    "attr_data['MaritalStatus']=label_encoder.fit_transform(attr_data['MaritalStatus'])\n",
    "attr_data['EducationField']=label_encoder.fit_transform(attr_data['EducationField'])\n",
    "attr_data['Attrition']=label_encoder.fit_transform(attr_data['Attrition'])"
   ]
  },
  {
   "cell_type": "code",
   "execution_count": 12,
   "metadata": {},
   "outputs": [
    {
     "data": {
      "text/plain": [
       "Index(['Age', 'Attrition', 'BusinessTravel', 'Department', 'DistanceFromHome',\n",
       "       'Education', 'EducationField', 'EmployeeCount', 'EmployeeID', 'Gender',\n",
       "       'JobLevel', 'JobRole', 'MaritalStatus', 'MonthlyIncome',\n",
       "       'NumCompaniesWorked', 'Over18', 'PercentSalaryHike', 'StandardHours',\n",
       "       'StockOptionLevel', 'TotalWorkingYears', 'TrainingTimesLastYear',\n",
       "       'YearsAtCompany', 'YearsSinceLastPromotion', 'YearsWithCurrManager'],\n",
       "      dtype='object')"
      ]
     },
     "execution_count": 12,
     "metadata": {},
     "output_type": "execute_result"
    }
   ],
   "source": [
    "attr_data.columns"
   ]
  },
  {
   "cell_type": "code",
   "execution_count": 13,
   "metadata": {},
   "outputs": [],
   "source": [
    "Y=attr_data['Attrition']\n",
    "X=attr_data[['Age','BusinessTravel','DistanceFromHome','Education','Gender','JobLevel','JobRole','MaritalStatus','MonthlyIncome','NumCompaniesWorked','PercentSalaryHike','TotalWorkingYears','TrainingTimesLastYear','YearsAtCompany','YearsSinceLastPromotion','YearsWithCurrManager']]"
   ]
  },
  {
   "cell_type": "code",
   "execution_count": 14,
   "metadata": {},
   "outputs": [],
   "source": [
    "X1=sm.add_constant(X)"
   ]
  },
  {
   "cell_type": "code",
   "execution_count": 15,
   "metadata": {},
   "outputs": [
    {
     "name": "stdout",
     "output_type": "stream",
     "text": [
      "Optimization terminated successfully.\n",
      "         Current function value: 0.395343\n",
      "         Iterations 7\n"
     ]
    }
   ],
   "source": [
    "Logistic=sm.Logit(Y,X1)\n",
    "\n",
    "result=Logistic.fit()"
   ]
  },
  {
   "cell_type": "code",
   "execution_count": 16,
   "metadata": {},
   "outputs": [
    {
     "data": {
      "text/html": [
       "<table class=\"simpletable\">\n",
       "<caption>Logit Regression Results</caption>\n",
       "<tr>\n",
       "  <th>Dep. Variable:</th>       <td>Attrition</td>    <th>  No. Observations:  </th>  <td>  4410</td>  \n",
       "</tr>\n",
       "<tr>\n",
       "  <th>Model:</th>                 <td>Logit</td>      <th>  Df Residuals:      </th>  <td>  4393</td>  \n",
       "</tr>\n",
       "<tr>\n",
       "  <th>Method:</th>                 <td>MLE</td>       <th>  Df Model:          </th>  <td>    16</td>  \n",
       "</tr>\n",
       "<tr>\n",
       "  <th>Date:</th>            <td>Wed, 12 Aug 2020</td> <th>  Pseudo R-squ.:     </th>  <td>0.1049</td>  \n",
       "</tr>\n",
       "<tr>\n",
       "  <th>Time:</th>                <td>00:52:19</td>     <th>  Log-Likelihood:    </th> <td> -1743.5</td> \n",
       "</tr>\n",
       "<tr>\n",
       "  <th>converged:</th>             <td>True</td>       <th>  LL-Null:           </th> <td> -1947.9</td> \n",
       "</tr>\n",
       "<tr>\n",
       "  <th>Covariance Type:</th>     <td>nonrobust</td>    <th>  LLR p-value:       </th> <td>5.148e-77</td>\n",
       "</tr>\n",
       "</table>\n",
       "<table class=\"simpletable\">\n",
       "<tr>\n",
       "             <td></td>                <th>coef</th>     <th>std err</th>      <th>z</th>      <th>P>|z|</th>  <th>[0.025</th>    <th>0.975]</th>  \n",
       "</tr>\n",
       "<tr>\n",
       "  <th>const</th>                   <td>   -0.5429</td> <td>    0.387</td> <td>   -1.401</td> <td> 0.161</td> <td>   -1.302</td> <td>    0.217</td>\n",
       "</tr>\n",
       "<tr>\n",
       "  <th>Age</th>                     <td>   -0.0312</td> <td>    0.007</td> <td>   -4.600</td> <td> 0.000</td> <td>   -0.044</td> <td>   -0.018</td>\n",
       "</tr>\n",
       "<tr>\n",
       "  <th>BusinessTravel</th>          <td>   -0.0077</td> <td>    0.065</td> <td>   -0.118</td> <td> 0.906</td> <td>   -0.136</td> <td>    0.120</td>\n",
       "</tr>\n",
       "<tr>\n",
       "  <th>DistanceFromHome</th>        <td>   -0.0008</td> <td>    0.005</td> <td>   -0.153</td> <td> 0.879</td> <td>   -0.011</td> <td>    0.010</td>\n",
       "</tr>\n",
       "<tr>\n",
       "  <th>Education</th>               <td>   -0.0618</td> <td>    0.042</td> <td>   -1.460</td> <td> 0.144</td> <td>   -0.145</td> <td>    0.021</td>\n",
       "</tr>\n",
       "<tr>\n",
       "  <th>Gender</th>                  <td>    0.0903</td> <td>    0.089</td> <td>    1.012</td> <td> 0.311</td> <td>   -0.085</td> <td>    0.265</td>\n",
       "</tr>\n",
       "<tr>\n",
       "  <th>JobLevel</th>                <td>   -0.0241</td> <td>    0.040</td> <td>   -0.610</td> <td> 0.542</td> <td>   -0.102</td> <td>    0.053</td>\n",
       "</tr>\n",
       "<tr>\n",
       "  <th>JobRole</th>                 <td>    0.0383</td> <td>    0.018</td> <td>    2.151</td> <td> 0.031</td> <td>    0.003</td> <td>    0.073</td>\n",
       "</tr>\n",
       "<tr>\n",
       "  <th>MaritalStatus</th>           <td>    0.5979</td> <td>    0.063</td> <td>    9.537</td> <td> 0.000</td> <td>    0.475</td> <td>    0.721</td>\n",
       "</tr>\n",
       "<tr>\n",
       "  <th>MonthlyIncome</th>           <td> -1.79e-06</td> <td> 9.51e-07</td> <td>   -1.883</td> <td> 0.060</td> <td>-3.65e-06</td> <td> 7.34e-08</td>\n",
       "</tr>\n",
       "<tr>\n",
       "  <th>NumCompaniesWorked</th>      <td>    0.1163</td> <td>    0.018</td> <td>    6.356</td> <td> 0.000</td> <td>    0.080</td> <td>    0.152</td>\n",
       "</tr>\n",
       "<tr>\n",
       "  <th>PercentSalaryHike</th>       <td>    0.0121</td> <td>    0.012</td> <td>    1.034</td> <td> 0.301</td> <td>   -0.011</td> <td>    0.035</td>\n",
       "</tr>\n",
       "<tr>\n",
       "  <th>TotalWorkingYears</th>       <td>   -0.0565</td> <td>    0.012</td> <td>   -4.758</td> <td> 0.000</td> <td>   -0.080</td> <td>   -0.033</td>\n",
       "</tr>\n",
       "<tr>\n",
       "  <th>TrainingTimesLastYear</th>   <td>   -0.1400</td> <td>    0.035</td> <td>   -4.004</td> <td> 0.000</td> <td>   -0.208</td> <td>   -0.071</td>\n",
       "</tr>\n",
       "<tr>\n",
       "  <th>YearsAtCompany</th>          <td>    0.0121</td> <td>    0.018</td> <td>    0.664</td> <td> 0.507</td> <td>   -0.024</td> <td>    0.048</td>\n",
       "</tr>\n",
       "<tr>\n",
       "  <th>YearsSinceLastPromotion</th> <td>    0.1275</td> <td>    0.020</td> <td>    6.250</td> <td> 0.000</td> <td>    0.087</td> <td>    0.167</td>\n",
       "</tr>\n",
       "<tr>\n",
       "  <th>YearsWithCurrManager</th>    <td>   -0.1395</td> <td>    0.022</td> <td>   -6.340</td> <td> 0.000</td> <td>   -0.183</td> <td>   -0.096</td>\n",
       "</tr>\n",
       "</table>"
      ],
      "text/plain": [
       "<class 'statsmodels.iolib.summary.Summary'>\n",
       "\"\"\"\n",
       "                           Logit Regression Results                           \n",
       "==============================================================================\n",
       "Dep. Variable:              Attrition   No. Observations:                 4410\n",
       "Model:                          Logit   Df Residuals:                     4393\n",
       "Method:                           MLE   Df Model:                           16\n",
       "Date:                Wed, 12 Aug 2020   Pseudo R-squ.:                  0.1049\n",
       "Time:                        00:52:19   Log-Likelihood:                -1743.5\n",
       "converged:                       True   LL-Null:                       -1947.9\n",
       "Covariance Type:            nonrobust   LLR p-value:                 5.148e-77\n",
       "===========================================================================================\n",
       "                              coef    std err          z      P>|z|      [0.025      0.975]\n",
       "-------------------------------------------------------------------------------------------\n",
       "const                      -0.5429      0.387     -1.401      0.161      -1.302       0.217\n",
       "Age                        -0.0312      0.007     -4.600      0.000      -0.044      -0.018\n",
       "BusinessTravel             -0.0077      0.065     -0.118      0.906      -0.136       0.120\n",
       "DistanceFromHome           -0.0008      0.005     -0.153      0.879      -0.011       0.010\n",
       "Education                  -0.0618      0.042     -1.460      0.144      -0.145       0.021\n",
       "Gender                      0.0903      0.089      1.012      0.311      -0.085       0.265\n",
       "JobLevel                   -0.0241      0.040     -0.610      0.542      -0.102       0.053\n",
       "JobRole                     0.0383      0.018      2.151      0.031       0.003       0.073\n",
       "MaritalStatus               0.5979      0.063      9.537      0.000       0.475       0.721\n",
       "MonthlyIncome            -1.79e-06   9.51e-07     -1.883      0.060   -3.65e-06    7.34e-08\n",
       "NumCompaniesWorked          0.1163      0.018      6.356      0.000       0.080       0.152\n",
       "PercentSalaryHike           0.0121      0.012      1.034      0.301      -0.011       0.035\n",
       "TotalWorkingYears          -0.0565      0.012     -4.758      0.000      -0.080      -0.033\n",
       "TrainingTimesLastYear      -0.1400      0.035     -4.004      0.000      -0.208      -0.071\n",
       "YearsAtCompany              0.0121      0.018      0.664      0.507      -0.024       0.048\n",
       "YearsSinceLastPromotion     0.1275      0.020      6.250      0.000       0.087       0.167\n",
       "YearsWithCurrManager       -0.1395      0.022     -6.340      0.000      -0.183      -0.096\n",
       "===========================================================================================\n",
       "\"\"\""
      ]
     },
     "execution_count": 16,
     "metadata": {},
     "output_type": "execute_result"
    }
   ],
   "source": [
    "result.summary()"
   ]
  },
  {
   "cell_type": "code",
   "execution_count": null,
   "metadata": {},
   "outputs": [],
   "source": []
  }
 ],
 "metadata": {
  "kernelspec": {
   "display_name": "Python 3",
   "language": "python",
   "name": "python3"
  },
  "language_info": {
   "codemirror_mode": {
    "name": "ipython",
    "version": 3
   },
   "file_extension": ".py",
   "mimetype": "text/x-python",
   "name": "python",
   "nbconvert_exporter": "python",
   "pygments_lexer": "ipython3",
   "version": "3.7.6"
  }
 },
 "nbformat": 4,
 "nbformat_minor": 4
}
