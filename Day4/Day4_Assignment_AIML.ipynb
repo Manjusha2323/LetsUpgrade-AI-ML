{
 "cells": [
  {
   "cell_type": "code",
   "execution_count": 8,
   "metadata": {},
   "outputs": [
    {
     "name": "stdout",
     "output_type": "stream",
     "text": [
      "Output of Addition of 2 complex numbers is  (10+6j)\n",
      "Output of Subtraction of  2 complex numbers is  (4+2j)\n",
      "Output of Multiplication of  2 complex numbers is  (13+26j)\n",
      "Output of Divison of   complex numbers is  (2.230769230769231-0.15384615384615372j)\n"
     ]
    }
   ],
   "source": [
    "#Question 1 Operations on complex numbers\n",
    "comp1=7+4j\n",
    "comp2=3+2j\n",
    "\n",
    "#Addition\n",
    "print(\"Output of Addition of 2 complex numbers is \",comp1+comp2)\n",
    "\n",
    "#Subtraction\n",
    "print(\"Output of Subtraction of  2 complex numbers is \",comp1-comp2)\n",
    "\n",
    "#Multiplication\n",
    "print(\"Output of Multiplication of  2 complex numbers is \",comp1*comp2)\n",
    "\n",
    "\n",
    "#Divison\n",
    "print(\"Output of Divison of   complex numbers is \",comp1/comp2)\n"
   ]
  },
  {
   "cell_type": "markdown",
   "metadata": {},
   "source": [
    "## range() function in Python\n",
    "\n",
    "##### Definition\n",
    "\n",
    "The range() function in Python is used for generating a sequence of numbers.\n",
    "\n",
    "In its simplest form , it accepts an interger and returns a sequence of numbers starting from 0 upto the integer specified , not including the same.\n",
    "\n",
    "In its complete definition , it accepts three parameters as integers\n",
    "range (start,stop,step)\n",
    "- start (optional) - This is the first number of the sequence . Can be positive as well as negative\n",
    "- stop  (required) - This is the limit of the sequence.All numbers from start till this number before this will be included . This number will NOT be included.Can be positive as well as negative but should be greater than start , if start has been specified\n",
    "- step (optional) - The increment number of the sequence. By default it is 1. Cannot be a negative number\n",
    "\n",
    "##### Example \n",
    "\n",
    "- range(5) would return 0,1,2,3,4\n",
    "\n",
    "- range(2,5) would return 2,3,4\n",
    "\n",
    "- range(2,10,2) would return 2,4,6,8\n",
    "\n",
    "###### Usage\n",
    "\n",
    "It is mainly used for code iterations\n",
    "\n",
    "for i in range(5):\n",
    "    \n",
    "    print(i)\n",
    "    \n",
    "Output would be 0,1,2,3,4 each on a separate line"
   ]
  },
  {
   "cell_type": "code",
   "execution_count": 37,
   "metadata": {},
   "outputs": [
    {
     "name": "stdout",
     "output_type": "stream",
     "text": [
      "Using range in simplest form default start 0 to a specified limit as input\n",
      "0\n",
      "1\n",
      "2\n",
      "3\n",
      "4\n",
      "Using range from a specified start to a  specified limit as input\n",
      "5\n",
      "6\n",
      "7\n",
      "8\n",
      "9\n",
      "Using range from a specified start to a  specified limit as input with a given step\n",
      "1\n",
      "3\n",
      "5\n",
      "7\n",
      "9\n",
      "Using range from a specified start  to a  specified limit as input with a given step - using negative numbers\n",
      "-10\n",
      "-8\n",
      "-6\n",
      "-4\n",
      "-2\n"
     ]
    }
   ],
   "source": [
    "#Question 2 - Usage of range()\n",
    "## print upto a certain limit - start defaults to 0\n",
    "print(\"Using range in simplest form default start 0 to a specified limit as input\")\n",
    "for i in range(5):\n",
    "    print(i)\n",
    "    \n",
    "## print upto a certain limit - starting from a given number\n",
    "print(\"Using range from a specified start to a  specified limit as input\")\n",
    "for i in range(5,10):\n",
    "    print(i)\n",
    "\n",
    "#print upto a certain limit - starting from a given number and every alternate number\n",
    "print(\"Using range from a specified start to a  specified limit as input with a given step\")\n",
    "\n",
    "for i in range (1,10,2):\n",
    "    print(i)\n",
    "    \n",
    "\n",
    "print(\"Using range from a specified start  to a  specified limit as input with a given step - using negative numbers\")\n",
    "for i in range (-10,-1,2):\n",
    "    print(i)\n",
    "\n",
    "    \n",
    "    "
   ]
  },
  {
   "cell_type": "code",
   "execution_count": 40,
   "metadata": {},
   "outputs": [
    {
     "name": "stdout",
     "output_type": "stream",
     "text": [
      "Multiplication result is  500000\n"
     ]
    }
   ],
   "source": [
    "#Question 3 - Performing operations on 2 numbers on conditions\n",
    "num1=1000\n",
    "num2=500\n",
    "if (num1-num2) > 25:\n",
    "    print(\"Multiplication result is \", num1*num2)\n",
    "else:\n",
    "    print(\"Division result is \", num1/num2)"
   ]
  },
  {
   "cell_type": "code",
   "execution_count": 45,
   "metadata": {},
   "outputs": [
    {
     "name": "stdout",
     "output_type": "stream",
     "text": [
      "Output is  142\n",
      "Output is  62\n",
      "Output is  142\n",
      "Output is  482\n",
      "Output is  34\n",
      "Output is  2\n"
     ]
    }
   ],
   "source": [
    "#Question 4 : Mod Operation on list of numbers\n",
    "num_list=[12,13,8,12,22,6,5,21,33,2]\n",
    "\n",
    "for i in num_list:\n",
    "    if i%2==0:\n",
    "        print(\"Output is \",i**2-2)\n",
    "    "
   ]
  },
  {
   "cell_type": "code",
   "execution_count": 46,
   "metadata": {},
   "outputs": [
    {
     "name": "stdout",
     "output_type": "stream",
     "text": [
      "Output is  22\n",
      "Output is  21\n",
      "Output is  33\n"
     ]
    }
   ],
   "source": [
    "#Question 5 : Div Operation on list of numbers\n",
    "num_list1=[12,13,8,12,22,6,5,21,33,2]\n",
    "for i in num_list:\n",
    "    if i/2>7:\n",
    "        print(\"Output is \",i)"
   ]
  },
  {
   "cell_type": "code",
   "execution_count": null,
   "metadata": {},
   "outputs": [],
   "source": []
  }
 ],
 "metadata": {
  "kernelspec": {
   "display_name": "Python 3",
   "language": "python",
   "name": "python3"
  },
  "language_info": {
   "codemirror_mode": {
    "name": "ipython",
    "version": 3
   },
   "file_extension": ".py",
   "mimetype": "text/x-python",
   "name": "python",
   "nbconvert_exporter": "python",
   "pygments_lexer": "ipython3",
   "version": "3.7.6"
  }
 },
 "nbformat": 4,
 "nbformat_minor": 4
}
