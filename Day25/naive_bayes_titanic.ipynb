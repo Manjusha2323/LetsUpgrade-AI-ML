{
 "cells": [
  {
   "cell_type": "code",
   "execution_count": 213,
   "metadata": {},
   "outputs": [],
   "source": [
    "import pandas as pd\n",
    "import numpy as np\n",
    "from sklearn import preprocessing\n",
    "from sklearn.model_selection import train_test_split\n",
    "from sklearn.naive_bayes import BernoulliNB\n",
    "from sklearn.naive_bayes import GaussianNB\n",
    "from sklearn.metrics import accuracy_score\n",
    "from sklearn.metrics import confusion_matrix"
   ]
  },
  {
   "cell_type": "code",
   "execution_count": 214,
   "metadata": {},
   "outputs": [],
   "source": [
    "##Function for interpreting confusion matrix\n",
    "def interpret_conf_matrix(conf_mat):\n",
    "    tot_sum=np.sum(conf_mat)\n",
    "    diag_sum=sum(np.diag(conf_mat))\n",
    "    rem_sum=tot_sum-diag_sum\n",
    "    return round((diag_sum/tot_sum)*100,2),round((rem_sum/tot_sum)*100,2),diag_sum,rem_sum,tot_sum"
   ]
  },
  {
   "cell_type": "code",
   "execution_count": 215,
   "metadata": {},
   "outputs": [],
   "source": [
    "##Function for Naive Bayes Classifier\n",
    "def naive_bayes_classification(func_dataset):\n",
    "    dependent_list=['Pclass','Survived','Sex','SibSp','Parch','Embarked']\n",
    "    for y_col in dependent_list:\n",
    "        temp_dataset=func_dataset\n",
    "        y=temp_dataset[y_col]\n",
    "        X=temp_dataset.drop([y_col],axis=1)\n",
    "        print(\"Dependent Variable :\", y_col)\n",
    "        print(\"Independent Variables:\",list(X.columns))\n",
    "        X_train,X_test,y_train,y_test=train_test_split(X,y,test_size=0.3,random_state=0)\n",
    "        clf=BernoulliNB()\n",
    "        y_pred=clf.fit(X_train,y_train).predict(X_test)\n",
    "        print(\"Accuracy Score :\" , accuracy_score(y_test,y_pred,normalize=True))\n",
    "        results=interpret_conf_matrix(confusion_matrix(y_test,y_pred))\n",
    "        print(\"Results from Confusion Matrix:\")\n",
    "        print(results[0],\"% records were classified correctly\")\n",
    "        print(results[1],\"% records were classified incorrectly\")\n",
    "        print(\"Out of \",results[4],\" rows \",results[2],\" rows were correctly classified and \",results[3], \" rows were incorrectly classified.\")\n",
    "        print(\"\\n\")\n",
    "\n",
    "    "
   ]
  },
  {
   "cell_type": "code",
   "execution_count": 216,
   "metadata": {},
   "outputs": [],
   "source": [
    "##Reading and Preprocessing\n",
    "dataset=pd.read_csv('C:/Users/Manzoo/Learning/Day25/Assignments/dataset/train.csv')\n",
    "dataset['Age']=dataset['Age'].fillna(dataset['Age'].mean())\n",
    "dataset['Cabin']=dataset['Cabin'].fillna('G6')\n",
    "dataset['Embarked']=dataset['Embarked'].fillna('S')\n",
    "le=preprocessing.LabelEncoder()\n",
    "dataset['Embarked']=le.fit_transform(dataset['Embarked'])\n",
    "dataset['Sex']=le.fit_transform(dataset['Sex'])\n"
   ]
  },
  {
   "cell_type": "code",
   "execution_count": 217,
   "metadata": {},
   "outputs": [
    {
     "name": "stdout",
     "output_type": "stream",
     "text": [
      "Dependent Variable : Pclass\n",
      "Independent Variables: ['Survived', 'Sex', 'SibSp', 'Parch', 'Embarked']\n",
      "Accuracy Score : 0.5970149253731343\n",
      "Results from Confusion Matrix:\n",
      "59.7 % records were classified correctly\n",
      "40.3 % records were classified incorrectly\n",
      "Out of  268  rows  160  rows were correctly classified and  108  rows were incorrectly classified.\n",
      "\n",
      "\n",
      "Dependent Variable : Survived\n",
      "Independent Variables: ['Pclass', 'Sex', 'SibSp', 'Parch', 'Embarked']\n",
      "Accuracy Score : 0.7835820895522388\n",
      "Results from Confusion Matrix:\n",
      "78.36 % records were classified correctly\n",
      "21.64 % records were classified incorrectly\n",
      "Out of  268  rows  210  rows were correctly classified and  58  rows were incorrectly classified.\n",
      "\n",
      "\n",
      "Dependent Variable : Sex\n",
      "Independent Variables: ['Survived', 'Pclass', 'SibSp', 'Parch', 'Embarked']\n",
      "Accuracy Score : 0.75\n",
      "Results from Confusion Matrix:\n",
      "75.0 % records were classified correctly\n",
      "25.0 % records were classified incorrectly\n",
      "Out of  268  rows  201  rows were correctly classified and  67  rows were incorrectly classified.\n",
      "\n",
      "\n",
      "Dependent Variable : SibSp\n",
      "Independent Variables: ['Survived', 'Pclass', 'Sex', 'Parch', 'Embarked']\n",
      "Accuracy Score : 0.6791044776119403\n",
      "Results from Confusion Matrix:\n",
      "67.91 % records were classified correctly\n",
      "32.09 % records were classified incorrectly\n",
      "Out of  268  rows  182  rows were correctly classified and  86  rows were incorrectly classified.\n",
      "\n",
      "\n",
      "Dependent Variable : Parch\n",
      "Independent Variables: ['Survived', 'Pclass', 'Sex', 'SibSp', 'Embarked']\n",
      "Accuracy Score : 0.7425373134328358\n",
      "Results from Confusion Matrix:\n",
      "74.25 % records were classified correctly\n",
      "25.75 % records were classified incorrectly\n",
      "Out of  268  rows  199  rows were correctly classified and  69  rows were incorrectly classified.\n",
      "\n",
      "\n",
      "Dependent Variable : Embarked\n",
      "Independent Variables: ['Survived', 'Pclass', 'Sex', 'SibSp', 'Parch']\n",
      "Accuracy Score : 0.6977611940298507\n",
      "Results from Confusion Matrix:\n",
      "69.78 % records were classified correctly\n",
      "30.22 % records were classified incorrectly\n",
      "Out of  268  rows  187  rows were correctly classified and  81  rows were incorrectly classified.\n",
      "\n",
      "\n"
     ]
    }
   ],
   "source": [
    "##Calling Naive Bayes\n",
    "dataset1=dataset.drop(['PassengerId','Name','Ticket','Cabin','Age','Fare'],axis=1)\n",
    "naive_bayes_classification(dataset1)"
   ]
  },
  {
   "cell_type": "code",
   "execution_count": 211,
   "metadata": {},
   "outputs": [
    {
     "name": "stdout",
     "output_type": "stream",
     "text": [
      "Dependent Variable : Pclass\n",
      "Independent Variables: ['Survived', 'Sex', 'SibSp', 'Parch', 'Embarked']\n",
      "Accuracy Score : 0.5970149253731343\n",
      "Results from Confusion Matrix:\n",
      "59.7 % records were classified correctly\n",
      "40.3 % records were classified incorrectly\n",
      "Out of  268  rows  160  rows were correctly classified and  108  rows were incorrectly classified.\n",
      "\n",
      "\n",
      "Dependent Variable : Survived\n",
      "Independent Variables: ['Pclass', 'Sex', 'SibSp', 'Parch', 'Embarked']\n",
      "Accuracy Score : 0.7835820895522388\n",
      "Results from Confusion Matrix:\n",
      "78.36 % records were classified correctly\n",
      "21.64 % records were classified incorrectly\n",
      "Out of  268  rows  210  rows were correctly classified and  58  rows were incorrectly classified.\n",
      "\n",
      "\n",
      "Dependent Variable : Sex\n",
      "Independent Variables: ['Survived', 'Pclass', 'SibSp', 'Parch', 'Embarked']\n",
      "Accuracy Score : 0.75\n",
      "Results from Confusion Matrix:\n",
      "75.0 % records were classified correctly\n",
      "25.0 % records were classified incorrectly\n",
      "Out of  268  rows  201  rows were correctly classified and  67  rows were incorrectly classified.\n",
      "\n",
      "\n",
      "Dependent Variable : SibSp\n",
      "Independent Variables: ['Survived', 'Pclass', 'Sex', 'Parch', 'Embarked']\n",
      "Accuracy Score : 0.6791044776119403\n",
      "Results from Confusion Matrix:\n",
      "67.91 % records were classified correctly\n",
      "32.09 % records were classified incorrectly\n",
      "Out of  268  rows  182  rows were correctly classified and  86  rows were incorrectly classified.\n",
      "\n",
      "\n",
      "Dependent Variable : Parch\n",
      "Independent Variables: ['Survived', 'Pclass', 'Sex', 'SibSp', 'Embarked']\n",
      "Accuracy Score : 0.7425373134328358\n",
      "Results from Confusion Matrix:\n",
      "74.25 % records were classified correctly\n",
      "25.75 % records were classified incorrectly\n",
      "Out of  268  rows  199  rows were correctly classified and  69  rows were incorrectly classified.\n",
      "\n",
      "\n",
      "Dependent Variable : Embarked\n",
      "Independent Variables: ['Survived', 'Pclass', 'Sex', 'SibSp', 'Parch']\n",
      "Accuracy Score : 0.6977611940298507\n",
      "Results from Confusion Matrix:\n",
      "69.78 % records were classified correctly\n",
      "30.22 % records were classified incorrectly\n",
      "Out of  268  rows  187  rows were correctly classified and  81  rows were incorrectly classified.\n",
      "\n",
      "\n"
     ]
    }
   ],
   "source": [
    "\n"
   ]
  },
  {
   "cell_type": "code",
   "execution_count": null,
   "metadata": {},
   "outputs": [],
   "source": []
  }
 ],
 "metadata": {
  "kernelspec": {
   "display_name": "Python 3",
   "language": "python",
   "name": "python3"
  },
  "language_info": {
   "codemirror_mode": {
    "name": "ipython",
    "version": 3
   },
   "file_extension": ".py",
   "mimetype": "text/x-python",
   "name": "python",
   "nbconvert_exporter": "python",
   "pygments_lexer": "ipython3",
   "version": "3.7.6"
  }
 },
 "nbformat": 4,
 "nbformat_minor": 4
}
