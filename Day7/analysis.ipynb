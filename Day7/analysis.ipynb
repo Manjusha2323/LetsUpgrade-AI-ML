{
 "cells": [
  {
   "cell_type": "code",
   "execution_count": 5,
   "metadata": {},
   "outputs": [],
   "source": [
    "import numpy as np\n",
    "import pandas as pd\n",
    "import matplotlib as plt\n",
    "from sklearn import preprocessing"
   ]
  },
  {
   "cell_type": "markdown",
   "metadata": {},
   "source": [
    "# Descriptive Statistics \n"
   ]
  },
  {
   "cell_type": "code",
   "execution_count": 14,
   "metadata": {},
   "outputs": [],
   "source": [
    "dataset=pd.read_csv(\"C:/Users/Manzoo/Learning/Day7/general_data.csv\")\n",
    "dataset=dataset.fillna(dataset.mean())\n",
    "pd.options.display.max_rows = 4000"
   ]
  },
  {
   "cell_type": "code",
   "execution_count": 13,
   "metadata": {},
   "outputs": [
    {
     "data": {
      "text/html": [
       "<div>\n",
       "<style scoped>\n",
       "    .dataframe tbody tr th:only-of-type {\n",
       "        vertical-align: middle;\n",
       "    }\n",
       "\n",
       "    .dataframe tbody tr th {\n",
       "        vertical-align: top;\n",
       "    }\n",
       "\n",
       "    .dataframe thead th {\n",
       "        text-align: right;\n",
       "    }\n",
       "</style>\n",
       "<table border=\"1\" class=\"dataframe\">\n",
       "  <thead>\n",
       "    <tr style=\"text-align: right;\">\n",
       "      <th></th>\n",
       "      <th>Age</th>\n",
       "      <th>Attrition</th>\n",
       "      <th>BusinessTravel</th>\n",
       "      <th>Department</th>\n",
       "      <th>DistanceFromHome</th>\n",
       "      <th>Education</th>\n",
       "      <th>EducationField</th>\n",
       "      <th>EmployeeCount</th>\n",
       "      <th>EmployeeID</th>\n",
       "      <th>Gender</th>\n",
       "      <th>...</th>\n",
       "      <th>NumCompaniesWorked</th>\n",
       "      <th>Over18</th>\n",
       "      <th>PercentSalaryHike</th>\n",
       "      <th>StandardHours</th>\n",
       "      <th>StockOptionLevel</th>\n",
       "      <th>TotalWorkingYears</th>\n",
       "      <th>TrainingTimesLastYear</th>\n",
       "      <th>YearsAtCompany</th>\n",
       "      <th>YearsSinceLastPromotion</th>\n",
       "      <th>YearsWithCurrManager</th>\n",
       "    </tr>\n",
       "  </thead>\n",
       "  <tbody>\n",
       "    <tr>\n",
       "      <th>0</th>\n",
       "      <td>51</td>\n",
       "      <td>No</td>\n",
       "      <td>Travel_Rarely</td>\n",
       "      <td>Sales</td>\n",
       "      <td>6</td>\n",
       "      <td>2</td>\n",
       "      <td>Life Sciences</td>\n",
       "      <td>1</td>\n",
       "      <td>1</td>\n",
       "      <td>Female</td>\n",
       "      <td>...</td>\n",
       "      <td>1.0</td>\n",
       "      <td>Y</td>\n",
       "      <td>11</td>\n",
       "      <td>8</td>\n",
       "      <td>0</td>\n",
       "      <td>1.0</td>\n",
       "      <td>6</td>\n",
       "      <td>1</td>\n",
       "      <td>0</td>\n",
       "      <td>0</td>\n",
       "    </tr>\n",
       "    <tr>\n",
       "      <th>1</th>\n",
       "      <td>31</td>\n",
       "      <td>Yes</td>\n",
       "      <td>Travel_Frequently</td>\n",
       "      <td>Research &amp; Development</td>\n",
       "      <td>10</td>\n",
       "      <td>1</td>\n",
       "      <td>Life Sciences</td>\n",
       "      <td>1</td>\n",
       "      <td>2</td>\n",
       "      <td>Female</td>\n",
       "      <td>...</td>\n",
       "      <td>0.0</td>\n",
       "      <td>Y</td>\n",
       "      <td>23</td>\n",
       "      <td>8</td>\n",
       "      <td>1</td>\n",
       "      <td>6.0</td>\n",
       "      <td>3</td>\n",
       "      <td>5</td>\n",
       "      <td>1</td>\n",
       "      <td>4</td>\n",
       "    </tr>\n",
       "    <tr>\n",
       "      <th>2</th>\n",
       "      <td>32</td>\n",
       "      <td>No</td>\n",
       "      <td>Travel_Frequently</td>\n",
       "      <td>Research &amp; Development</td>\n",
       "      <td>17</td>\n",
       "      <td>4</td>\n",
       "      <td>Other</td>\n",
       "      <td>1</td>\n",
       "      <td>3</td>\n",
       "      <td>Male</td>\n",
       "      <td>...</td>\n",
       "      <td>1.0</td>\n",
       "      <td>Y</td>\n",
       "      <td>15</td>\n",
       "      <td>8</td>\n",
       "      <td>3</td>\n",
       "      <td>5.0</td>\n",
       "      <td>2</td>\n",
       "      <td>5</td>\n",
       "      <td>0</td>\n",
       "      <td>3</td>\n",
       "    </tr>\n",
       "    <tr>\n",
       "      <th>3</th>\n",
       "      <td>38</td>\n",
       "      <td>No</td>\n",
       "      <td>Non-Travel</td>\n",
       "      <td>Research &amp; Development</td>\n",
       "      <td>2</td>\n",
       "      <td>5</td>\n",
       "      <td>Life Sciences</td>\n",
       "      <td>1</td>\n",
       "      <td>4</td>\n",
       "      <td>Male</td>\n",
       "      <td>...</td>\n",
       "      <td>3.0</td>\n",
       "      <td>Y</td>\n",
       "      <td>11</td>\n",
       "      <td>8</td>\n",
       "      <td>3</td>\n",
       "      <td>13.0</td>\n",
       "      <td>5</td>\n",
       "      <td>8</td>\n",
       "      <td>7</td>\n",
       "      <td>5</td>\n",
       "    </tr>\n",
       "    <tr>\n",
       "      <th>4</th>\n",
       "      <td>32</td>\n",
       "      <td>No</td>\n",
       "      <td>Travel_Rarely</td>\n",
       "      <td>Research &amp; Development</td>\n",
       "      <td>10</td>\n",
       "      <td>1</td>\n",
       "      <td>Medical</td>\n",
       "      <td>1</td>\n",
       "      <td>5</td>\n",
       "      <td>Male</td>\n",
       "      <td>...</td>\n",
       "      <td>4.0</td>\n",
       "      <td>Y</td>\n",
       "      <td>12</td>\n",
       "      <td>8</td>\n",
       "      <td>2</td>\n",
       "      <td>9.0</td>\n",
       "      <td>2</td>\n",
       "      <td>6</td>\n",
       "      <td>0</td>\n",
       "      <td>4</td>\n",
       "    </tr>\n",
       "  </tbody>\n",
       "</table>\n",
       "<p>5 rows × 24 columns</p>\n",
       "</div>"
      ],
      "text/plain": [
       "   Age Attrition     BusinessTravel              Department  DistanceFromHome  \\\n",
       "0   51        No      Travel_Rarely                   Sales                 6   \n",
       "1   31       Yes  Travel_Frequently  Research & Development                10   \n",
       "2   32        No  Travel_Frequently  Research & Development                17   \n",
       "3   38        No         Non-Travel  Research & Development                 2   \n",
       "4   32        No      Travel_Rarely  Research & Development                10   \n",
       "\n",
       "   Education EducationField  EmployeeCount  EmployeeID  Gender  ...  \\\n",
       "0          2  Life Sciences              1           1  Female  ...   \n",
       "1          1  Life Sciences              1           2  Female  ...   \n",
       "2          4          Other              1           3    Male  ...   \n",
       "3          5  Life Sciences              1           4    Male  ...   \n",
       "4          1        Medical              1           5    Male  ...   \n",
       "\n",
       "   NumCompaniesWorked Over18 PercentSalaryHike  StandardHours  \\\n",
       "0                 1.0      Y                11              8   \n",
       "1                 0.0      Y                23              8   \n",
       "2                 1.0      Y                15              8   \n",
       "3                 3.0      Y                11              8   \n",
       "4                 4.0      Y                12              8   \n",
       "\n",
       "   StockOptionLevel TotalWorkingYears  TrainingTimesLastYear  YearsAtCompany  \\\n",
       "0                 0               1.0                      6               1   \n",
       "1                 1               6.0                      3               5   \n",
       "2                 3               5.0                      2               5   \n",
       "3                 3              13.0                      5               8   \n",
       "4                 2               9.0                      2               6   \n",
       "\n",
       "   YearsSinceLastPromotion  YearsWithCurrManager  \n",
       "0                        0                     0  \n",
       "1                        1                     4  \n",
       "2                        0                     3  \n",
       "3                        7                     5  \n",
       "4                        0                     4  \n",
       "\n",
       "[5 rows x 24 columns]"
      ]
     },
     "execution_count": 13,
     "metadata": {},
     "output_type": "execute_result"
    }
   ],
   "source": [
    "##Mean of the continuous variables\n",
    "\n",
    "ds_mean=dataset.groupby('Attrition')[['MonthlyIncome','Age','TotalWorkingYears','YearsAtCompany','YearsSinceLastPromotion','YearsWithCurrManager','PercentSalaryHike','NumCompaniesWorked','DistanceFromHome']].mean().round(2).transpose()\n",
    "print(ds_mean)\n",
    "ds_mean.plot()\n"
   ]
  },
  {
   "cell_type": "code",
   "execution_count": null,
   "metadata": {},
   "outputs": [],
   "source": []
  },
  {
   "cell_type": "code",
   "execution_count": null,
   "metadata": {},
   "outputs": [],
   "source": []
  },
  {
   "cell_type": "code",
   "execution_count": 5,
   "metadata": {
    "scrolled": true
   },
   "outputs": [
    {
     "name": "stdout",
     "output_type": "stream",
     "text": [
      "Attrition                     No      Yes\n",
      "MonthlyIncome            49300.0  49080.0\n",
      "Age                         36.0     32.0\n",
      "TotalWorkingYears           10.0      7.0\n",
      "YearsAtCompany               6.0      3.0\n",
      "YearsSinceLastPromotion      1.0      1.0\n",
      "YearsWithCurrManager         3.0      2.0\n",
      "PercentSalaryHike           14.0     14.0\n",
      "NumCompaniesWorked           2.0      1.0\n",
      "DistanceFromHome             7.0      7.0\n"
     ]
    },
    {
     "data": {
      "text/plain": [
       "<matplotlib.axes._subplots.AxesSubplot at 0xd5c2c88>"
      ]
     },
     "execution_count": 5,
     "metadata": {},
     "output_type": "execute_result"
    },
    {
     "data": {
      "image/png": "[encoded data removed]",
      "text/plain": [
       "<Figure size 432x288 with 1 Axes>"
      ]
     },
     "metadata": {
      "needs_background": "light"
     },
     "output_type": "display_data"
    }
   ],
   "source": [
    "##Median of the continuous variables\n",
    "\n",
    "ds_median=dataset.groupby('Attrition')[['MonthlyIncome','Age','TotalWorkingYears','YearsAtCompany','YearsSinceLastPromotion','YearsWithCurrManager','PercentSalaryHike','NumCompaniesWorked','DistanceFromHome']].median().round(2).transpose()\n",
    "print(ds_median)\n",
    "ds_median.plot()"
   ]
  },
  {
   "cell_type": "code",
   "execution_count": 15,
   "metadata": {},
   "outputs": [
    {
     "name": "stdout",
     "output_type": "stream",
     "text": [
      "                               0        1        2        3        4\n",
      "MonthlyIncome            25590.0  27410.0  27430.0  28860.0  55620.0\n",
      "Age                         29.0     31.0      NaN      NaN      NaN\n",
      "TotalWorkingYears            1.0      NaN      NaN      NaN      NaN\n",
      "YearsAtCompany               1.0      NaN      NaN      NaN      NaN\n",
      "YearsSinceLastPromotion      0.0      NaN      NaN      NaN      NaN\n",
      "YearsWithCurrManager         0.0      NaN      NaN      NaN      NaN\n",
      "PercentSalaryHike           13.0      NaN      NaN      NaN      NaN\n",
      "NumCompaniesWorked           1.0      NaN      NaN      NaN      NaN\n",
      "DistanceFromHome             2.0      NaN      NaN      NaN      NaN\n",
      "                               0        1        2        3        4        5\n",
      "MonthlyIncome            23420.0  23800.0  24510.0  26100.0  34520.0  61420.0\n",
      "Age                         34.0     35.0      NaN      NaN      NaN      NaN\n",
      "TotalWorkingYears           10.0      NaN      NaN      NaN      NaN      NaN\n",
      "YearsAtCompany               5.0      NaN      NaN      NaN      NaN      NaN\n",
      "YearsSinceLastPromotion      0.0      NaN      NaN      NaN      NaN      NaN\n",
      "YearsWithCurrManager         2.0      NaN      NaN      NaN      NaN      NaN\n",
      "PercentSalaryHike           11.0      NaN      NaN      NaN      NaN      NaN\n",
      "NumCompaniesWorked           1.0      NaN      NaN      NaN      NaN      NaN\n",
      "DistanceFromHome             1.0      NaN      NaN      NaN      NaN      NaN\n"
     ]
    }
   ],
   "source": [
    "##Mode of the continuous variables\n",
    "datasetYes=dataset[dataset['Attrition']=='Yes']\n",
    "datasetNo=dataset[dataset['Attrition']=='No']\n",
    "print(datasetYes[['MonthlyIncome','Age','TotalWorkingYears','YearsAtCompany','YearsSinceLastPromotion','YearsWithCurrManager','PercentSalaryHike','NumCompaniesWorked','DistanceFromHome']].mode().round(2).transpose())\n",
    "print(datasetNo[['MonthlyIncome','Age','TotalWorkingYears','YearsAtCompany','YearsSinceLastPromotion','YearsWithCurrManager','PercentSalaryHike','NumCompaniesWorked','DistanceFromHome']].mode().round(2).transpose())\n",
    "\n"
   ]
  },
  {
   "cell_type": "code",
   "execution_count": 11,
   "metadata": {},
   "outputs": [
    {
     "name": "stdout",
     "output_type": "stream",
     "text": [
      "MonthlyIncome              1.66\n",
      "Age                       -0.07\n",
      "TotalWorkingYears          3.70\n",
      "YearsAtCompany             9.46\n",
      "YearsSinceLastPromotion    4.78\n",
      "YearsWithCurrManager       0.24\n",
      "PercentSalaryHike         -0.42\n",
      "NumCompaniesWorked        -0.55\n",
      "DistanceFromHome          -0.04\n",
      "dtype: float64\n",
      "MonthlyIncome              0.90\n",
      "Age                       -0.41\n",
      "TotalWorkingYears          0.67\n",
      "YearsAtCompany             3.34\n",
      "YearsSinceLastPromotion    3.42\n",
      "YearsWithCurrManager       0.14\n",
      "PercentSalaryHike         -0.28\n",
      "NumCompaniesWorked         0.14\n",
      "DistanceFromHome          -0.26\n",
      "dtype: float64\n"
     ]
    }
   ],
   "source": [
    "##Kurtosis of the continuos variables\n",
    "datasetYes=dataset[dataset['Attrition']=='Yes']\n",
    "datasetNo=dataset[dataset['Attrition']=='No']\n",
    "print(datasetYes[['MonthlyIncome','Age','TotalWorkingYears','YearsAtCompany','YearsSinceLastPromotion','YearsWithCurrManager','PercentSalaryHike','NumCompaniesWorked','DistanceFromHome']].kurt().round(2).transpose())\n",
    "print(datasetNo[['MonthlyIncome','Age','TotalWorkingYears','YearsAtCompany','YearsSinceLastPromotion','YearsWithCurrManager','PercentSalaryHike','NumCompaniesWorked','DistanceFromHome']].kurt().round(2).transpose())\n"
   ]
  },
  {
   "cell_type": "code",
   "execution_count": 16,
   "metadata": {},
   "outputs": [
    {
     "name": "stdout",
     "output_type": "stream",
     "text": [
      "MonthlyIncome              1.54\n",
      "Age                        0.71\n",
      "TotalWorkingYears          1.68\n",
      "YearsAtCompany             2.67\n",
      "YearsSinceLastPromotion    2.21\n",
      "YearsWithCurrManager       1.03\n",
      "PercentSalaryHike          0.76\n",
      "NumCompaniesWorked         0.87\n",
      "DistanceFromHome           0.96\n",
      "dtype: float64\n",
      "MonthlyIncome              1.34\n",
      "Age                        0.41\n",
      "TotalWorkingYears          1.07\n",
      "YearsAtCompany             1.66\n",
      "YearsSinceLastPromotion    1.95\n",
      "YearsWithCurrManager       0.80\n",
      "PercentSalaryHike          0.83\n",
      "NumCompaniesWorked         1.06\n",
      "DistanceFromHome           0.96\n",
      "dtype: float64\n"
     ]
    }
   ],
   "source": [
    "##Skewness of the continuos variables\n",
    "\n",
    "import pandas as pd\n",
    "datasetYes=dataset[dataset['Attrition']=='Yes']\n",
    "datasetNo=dataset[dataset['Attrition']=='No']\n",
    "print(datasetYes[['MonthlyIncome','Age','TotalWorkingYears','YearsAtCompany','YearsSinceLastPromotion','YearsWithCurrManager','PercentSalaryHike','NumCompaniesWorked','DistanceFromHome']].skew().round(2).transpose())\n",
    "print(datasetNo[['MonthlyIncome','Age','TotalWorkingYears','YearsAtCompany','YearsSinceLastPromotion','YearsWithCurrManager','PercentSalaryHike','NumCompaniesWorked','DistanceFromHome']].skew().round(2).transpose())\n"
   ]
  },
  {
   "cell_type": "code",
   "execution_count": 2,
   "metadata": {},
   "outputs": [
    {
     "data": {
      "text/plain": [
       "<matplotlib.axes._subplots.AxesSubplot at 0xcc73b48>"
      ]
     },
     "execution_count": 2,
     "metadata": {},
     "output_type": "execute_result"
    },
    {
     "data": {
      "image/png": "[encoded data removed]",
      "text/plain": [
       "<Figure size 432x288 with 1 Axes>"
      ]
     },
     "metadata": {
      "needs_background": "light"
     },
     "output_type": "display_data"
    }
   ],
   "source": [
    "##Variance of the continuos variables\n",
    "\n",
    "ds_var=dataset.groupby('Attrition')[['MonthlyIncome','Age','TotalWorkingYears','YearsAtCompany','YearsSinceLastPromotion','YearsWithCurrManager','PercentSalaryHike','NumCompaniesWorked','DistanceFromHome']].var().round(2).transpose()\n",
    "ds_var.plot()\n"
   ]
  },
  {
   "cell_type": "code",
   "execution_count": 3,
   "metadata": {},
   "outputs": [
    {
     "data": {
      "text/plain": [
       "<matplotlib.axes._subplots.AxesSubplot at 0xcce42c8>"
      ]
     },
     "execution_count": 3,
     "metadata": {},
     "output_type": "execute_result"
    },
    {
     "data": {
      "image/png": "[encoded data removed]",
      "text/plain": [
       "<Figure size 432x288 with 1 Axes>"
      ]
     },
     "metadata": {
      "needs_background": "light"
     },
     "output_type": "display_data"
    }
   ],
   "source": [
    "##Standard deviation of the continuos variables\n",
    "\n",
    "ds_std=dataset.groupby('Attrition')[['MonthlyIncome','Age','TotalWorkingYears','YearsAtCompany','YearsSinceLastPromotion','YearsWithCurrManager','PercentSalaryHike','NumCompaniesWorked','DistanceFromHome']].std().round(2).transpose()\n",
    "ds_std.plot()\n"
   ]
  },
  {
   "cell_type": "code",
   "execution_count": 4,
   "metadata": {},
   "outputs": [
    {
     "data": {
      "text/plain": [
       "<matplotlib.axes._subplots.AxesSubplot at 0xcea5a48>"
      ]
     },
     "execution_count": 4,
     "metadata": {},
     "output_type": "execute_result"
    },
    {
     "data": {
      "image/png": "[encoded data removed]",
      "text/plain": [
       "<Figure size 432x288 with 1 Axes>"
      ]
     },
     "metadata": {
      "needs_background": "light"
     },
     "output_type": "display_data"
    }
   ],
   "source": [
    "##Variance of the continuos variables\n",
    "\n",
    "ds_Desc=dataset.groupby('Attrition')[['MonthlyIncome','Age','TotalWorkingYears','YearsAtCompany','YearsSinceLastPromotion','YearsWithCurrManager','PercentSalaryHike','NumCompaniesWorked','DistanceFromHome']].describe().round(2).transpose()\n",
    "ds_Desc.plot()\n"
   ]
  },
  {
   "cell_type": "code",
   "execution_count": 6,
   "metadata": {},
   "outputs": [
    {
     "data": {
      "text/plain": [
       "{'whiskers': [<matplotlib.lines.Line2D at 0x13c38288>,\n",
       "  <matplotlib.lines.Line2D at 0x13c17f88>],\n",
       " 'caps': [<matplotlib.lines.Line2D at 0x13c38548>,\n",
       "  <matplotlib.lines.Line2D at 0x13c386c8>],\n",
       " 'boxes': [<matplotlib.lines.Line2D at 0x13c17508>],\n",
       " 'medians': [<matplotlib.lines.Line2D at 0x14840cc8>],\n",
       " 'fliers': [<matplotlib.lines.Line2D at 0x14840648>],\n",
       " 'means': []}"
      ]
     },
     "execution_count": 6,
     "metadata": {},
     "output_type": "execute_result"
    },
    {
     "data": {
      "image/png": "[encoded data removed]",
      "text/plain": [
       "<Figure size 432x288 with 1 Axes>"
      ]
     },
     "metadata": {
      "needs_background": "light"
     },
     "output_type": "display_data"
    }
   ],
   "source": [
    "plt.pyplot.boxplot(dataset['Age'])"
   ]
  },
  {
   "cell_type": "code",
   "execution_count": 10,
   "metadata": {},
   "outputs": [
    {
     "data": {
      "text/plain": [
       "{'whiskers': [<matplotlib.lines.Line2D at 0x140d5048>,\n",
       "  <matplotlib.lines.Line2D at 0x140d5548>],\n",
       " 'caps': [<matplotlib.lines.Line2D at 0x140e6548>,\n",
       "  <matplotlib.lines.Line2D at 0x140e6d48>],\n",
       " 'boxes': [<matplotlib.lines.Line2D at 0x140d59c8>],\n",
       " 'medians': [<matplotlib.lines.Line2D at 0x13a7d988>],\n",
       " 'fliers': [<matplotlib.lines.Line2D at 0x140e8908>],\n",
       " 'means': []}"
      ]
     },
     "execution_count": 10,
     "metadata": {},
     "output_type": "execute_result"
    },
    {
     "data": {
      "image/png": "[encoded data removed]",
      "text/plain": [
       "<Figure size 432x288 with 1 Axes>"
      ]
     },
     "metadata": {
      "needs_background": "light"
     },
     "output_type": "display_data"
    }
   ],
   "source": [
    "plt.pyplot.boxplot(dataset['YearsAtCompany'])"
   ]
  },
  {
   "cell_type": "code",
   "execution_count": null,
   "metadata": {},
   "outputs": [],
   "source": []
  },
  {
   "cell_type": "code",
   "execution_count": 7,
   "metadata": {},
   "outputs": [
    {
     "data": {
      "text/plain": [
       "{'whiskers': [<matplotlib.lines.Line2D at 0x13efe508>,\n",
       "  <matplotlib.lines.Line2D at 0x13efecc8>],\n",
       " 'caps': [<matplotlib.lines.Line2D at 0x13efedc8>,\n",
       "  <matplotlib.lines.Line2D at 0x13a56c48>],\n",
       " 'boxes': [<matplotlib.lines.Line2D at 0x13eea108>],\n",
       " 'medians': [<matplotlib.lines.Line2D at 0x13a56d48>],\n",
       " 'fliers': [<matplotlib.lines.Line2D at 0x13a67cc8>],\n",
       " 'means': []}"
      ]
     },
     "execution_count": 7,
     "metadata": {},
     "output_type": "execute_result"
    },
    {
     "data": {
      "image/png": "[encoded data removed]",
      "text/plain": [
       "<Figure size 432x288 with 1 Axes>"
      ]
     },
     "metadata": {
      "needs_background": "light"
     },
     "output_type": "display_data"
    }
   ],
   "source": [
    "plt.pyplot.boxplot(dataset['MonthlyIncome'])"
   ]
  },
  {
   "cell_type": "code",
   "execution_count": null,
   "metadata": {},
   "outputs": [],
   "source": []
  },
  {
   "cell_type": "code",
   "execution_count": 11,
   "metadata": {},
   "outputs": [
    {
     "data": {
      "text/plain": [
       "{'whiskers': [<matplotlib.lines.Line2D at 0x12ea5ac8>,\n",
       "  <matplotlib.lines.Line2D at 0x12ea5bc8>],\n",
       " 'caps': [<matplotlib.lines.Line2D at 0x12e8aa48>,\n",
       "  <matplotlib.lines.Line2D at 0x12e8ab48>],\n",
       " 'boxes': [<matplotlib.lines.Line2D at 0x12eaaf08>],\n",
       " 'medians': [<matplotlib.lines.Line2D at 0x12ea19c8>],\n",
       " 'fliers': [<matplotlib.lines.Line2D at 0x12ea1ac8>],\n",
       " 'means': []}"
      ]
     },
     "execution_count": 11,
     "metadata": {},
     "output_type": "execute_result"
    },
    {
     "data": {
      "image/png": "[encoded data removed]",
      "text/plain": [
       "<Figure size 432x288 with 1 Axes>"
      ]
     },
     "metadata": {
      "needs_background": "light"
     },
     "output_type": "display_data"
    }
   ],
   "source": [
    "    plt.pyplot.boxplot(dataset['YearsSinceLastPromotion'])"
   ]
  },
  {
   "cell_type": "code",
   "execution_count": 12,
   "metadata": {},
   "outputs": [
    {
     "data": {
      "text/plain": [
       "{'whiskers': [<matplotlib.lines.Line2D at 0x140a2a88>,\n",
       "  <matplotlib.lines.Line2D at 0x13a5fc48>],\n",
       " 'caps': [<matplotlib.lines.Line2D at 0x1487fe88>,\n",
       "  <matplotlib.lines.Line2D at 0x1469b988>],\n",
       " 'boxes': [<matplotlib.lines.Line2D at 0x14019d48>],\n",
       " 'medians': [<matplotlib.lines.Line2D at 0x13b026c8>],\n",
       " 'fliers': [<matplotlib.lines.Line2D at 0x13b02308>],\n",
       " 'means': []}"
      ]
     },
     "execution_count": 12,
     "metadata": {},
     "output_type": "execute_result"
    },
    {
     "data": {
      "image/png": "[encoded data removed]",
      "text/plain": [
       "<Figure size 432x288 with 1 Axes>"
      ]
     },
     "metadata": {
      "needs_background": "light"
     },
     "output_type": "display_data"
    }
   ],
   "source": [
    "plt.pyplot.boxplot(dataset['YearsWithCurrManager'])"
   ]
  },
  {
   "cell_type": "code",
   "execution_count": 13,
   "metadata": {},
   "outputs": [
    {
     "data": {
      "text/plain": [
       "{'whiskers': [<matplotlib.lines.Line2D at 0x12e32e08>,\n",
       "  <matplotlib.lines.Line2D at 0x12e32f08>],\n",
       " 'caps': [<matplotlib.lines.Line2D at 0x12e34dc8>,\n",
       "  <matplotlib.lines.Line2D at 0x12e34ec8>],\n",
       " 'boxes': [<matplotlib.lines.Line2D at 0x12e323c8>],\n",
       " 'medians': [<matplotlib.lines.Line2D at 0x12e37d48>],\n",
       " 'fliers': [<matplotlib.lines.Line2D at 0x12e37e48>],\n",
       " 'means': []}"
      ]
     },
     "execution_count": 13,
     "metadata": {},
     "output_type": "execute_result"
    },
    {
     "data": {
      "image/png": "[encoded data removed]",
      "text/plain": [
       "<Figure size 432x288 with 1 Axes>"
      ]
     },
     "metadata": {
      "needs_background": "light"
     },
     "output_type": "display_data"
    }
   ],
   "source": [
    "plt.pyplot.boxplot(dataset['PercentSalaryHike'])"
   ]
  },
  {
   "cell_type": "code",
   "execution_count": 17,
   "metadata": {},
   "outputs": [
    {
     "data": {
      "text/plain": [
       "{'whiskers': [<matplotlib.lines.Line2D at 0x14146e48>,\n",
       "  <matplotlib.lines.Line2D at 0x1416b7c8>],\n",
       " 'caps': [<matplotlib.lines.Line2D at 0x1416bd48>,\n",
       "  <matplotlib.lines.Line2D at 0x1416b348>],\n",
       " 'boxes': [<matplotlib.lines.Line2D at 0x14146b48>],\n",
       " 'medians': [<matplotlib.lines.Line2D at 0x141a1988>],\n",
       " 'fliers': [<matplotlib.lines.Line2D at 0x141a1c08>],\n",
       " 'means': []}"
      ]
     },
     "execution_count": 17,
     "metadata": {},
     "output_type": "execute_result"
    },
    {
     "data": {
      "image/png": "[encoded data removed]",
      "text/plain": [
       "<Figure size 432x288 with 1 Axes>"
      ]
     },
     "metadata": {
      "needs_background": "light"
     },
     "output_type": "display_data"
    }
   ],
   "source": [
    "plt.pyplot.boxplot(dataset['NumCompaniesWorked'])"
   ]
  },
  {
   "cell_type": "code",
   "execution_count": 18,
   "metadata": {},
   "outputs": [
    {
     "data": {
      "text/plain": [
       "{'whiskers': [<matplotlib.lines.Line2D at 0x13e49b08>,\n",
       "  <matplotlib.lines.Line2D at 0x13e49f88>],\n",
       " 'caps': [<matplotlib.lines.Line2D at 0x13e492c8>,\n",
       "  <matplotlib.lines.Line2D at 0x13e4ec88>],\n",
       " 'boxes': [<matplotlib.lines.Line2D at 0x13e35808>],\n",
       " 'medians': [<matplotlib.lines.Line2D at 0x13e4ef48>],\n",
       " 'fliers': [<matplotlib.lines.Line2D at 0x13d05788>],\n",
       " 'means': []}"
      ]
     },
     "execution_count": 18,
     "metadata": {},
     "output_type": "execute_result"
    },
    {
     "data": {
      "image/png": "[encoded data removed]",
      "text/plain": [
       "<Figure size 432x288 with 1 Axes>"
      ]
     },
     "metadata": {
      "needs_background": "light"
     },
     "output_type": "display_data"
    }
   ],
   "source": [
    "plt.pyplot.boxplot(dataset['TotalWorkingYears'])"
   ]
  },
  {
   "cell_type": "code",
   "execution_count": 19,
   "metadata": {},
   "outputs": [
    {
     "data": {
      "text/plain": [
       "{'whiskers': [<matplotlib.lines.Line2D at 0x13b794c8>,\n",
       "  <matplotlib.lines.Line2D at 0x13b79388>],\n",
       " 'caps': [<matplotlib.lines.Line2D at 0x13b64288>,\n",
       "  <matplotlib.lines.Line2D at 0x13b64088>],\n",
       " 'boxes': [<matplotlib.lines.Line2D at 0x13b79888>],\n",
       " 'medians': [<matplotlib.lines.Line2D at 0x13b1c088>],\n",
       " 'fliers': [<matplotlib.lines.Line2D at 0x13b1c308>],\n",
       " 'means': []}"
      ]
     },
     "execution_count": 19,
     "metadata": {},
     "output_type": "execute_result"
    },
    {
     "data": {
      "image/png": "[encoded data removed]",
      "text/plain": [
       "<Figure size 432x288 with 1 Axes>"
      ]
     },
     "metadata": {
      "needs_background": "light"
     },
     "output_type": "display_data"
    }
   ],
   "source": [
    "plt.pyplot.boxplot(dataset['DistanceFromHome'])"
   ]
  },
  {
   "cell_type": "markdown",
   "metadata": {},
   "source": [
    "# Correlation table"
   ]
  },
  {
   "cell_type": "code",
   "execution_count": 87,
   "metadata": {},
   "outputs": [
    {
     "data": {
      "text/html": [
       "<div>\n",
       "<style scoped>\n",
       "    .dataframe tbody tr th:only-of-type {\n",
       "        vertical-align: middle;\n",
       "    }\n",
       "\n",
       "    .dataframe tbody tr th {\n",
       "        vertical-align: top;\n",
       "    }\n",
       "\n",
       "    .dataframe thead th {\n",
       "        text-align: right;\n",
       "    }\n",
       "</style>\n",
       "<table border=\"1\" class=\"dataframe\">\n",
       "  <thead>\n",
       "    <tr style=\"text-align: right;\">\n",
       "      <th></th>\n",
       "      <th>Age</th>\n",
       "      <th>Attrition</th>\n",
       "      <th>DistanceFromHome</th>\n",
       "      <th>Education</th>\n",
       "      <th>EmployeeCount</th>\n",
       "      <th>EmployeeID</th>\n",
       "      <th>JobLevel</th>\n",
       "      <th>MonthlyIncome</th>\n",
       "      <th>NumCompaniesWorked</th>\n",
       "      <th>PercentSalaryHike</th>\n",
       "      <th>StandardHours</th>\n",
       "      <th>StockOptionLevel</th>\n",
       "      <th>TotalWorkingYears</th>\n",
       "      <th>TrainingTimesLastYear</th>\n",
       "      <th>YearsAtCompany</th>\n",
       "      <th>YearsSinceLastPromotion</th>\n",
       "      <th>YearsWithCurrManager</th>\n",
       "    </tr>\n",
       "  </thead>\n",
       "  <tbody>\n",
       "    <tr>\n",
       "      <th>Age</th>\n",
       "      <td>1.000000</td>\n",
       "      <td>-0.159205</td>\n",
       "      <td>0.006963</td>\n",
       "      <td>-0.035706</td>\n",
       "      <td>NaN</td>\n",
       "      <td>0.008649</td>\n",
       "      <td>-0.002884</td>\n",
       "      <td>-0.044314</td>\n",
       "      <td>0.298528</td>\n",
       "      <td>-0.033137</td>\n",
       "      <td>NaN</td>\n",
       "      <td>-0.031753</td>\n",
       "      <td>0.680419</td>\n",
       "      <td>-0.027308</td>\n",
       "      <td>0.311309</td>\n",
       "      <td>0.216513</td>\n",
       "      <td>0.202089</td>\n",
       "    </tr>\n",
       "    <tr>\n",
       "      <th>Attrition</th>\n",
       "      <td>-0.159205</td>\n",
       "      <td>1.000000</td>\n",
       "      <td>-0.009730</td>\n",
       "      <td>-0.015111</td>\n",
       "      <td>NaN</td>\n",
       "      <td>-0.004729</td>\n",
       "      <td>-0.010290</td>\n",
       "      <td>-0.031176</td>\n",
       "      <td>0.042232</td>\n",
       "      <td>0.032533</td>\n",
       "      <td>NaN</td>\n",
       "      <td>-0.006839</td>\n",
       "      <td>-0.170111</td>\n",
       "      <td>-0.049431</td>\n",
       "      <td>-0.134392</td>\n",
       "      <td>-0.033019</td>\n",
       "      <td>-0.156199</td>\n",
       "    </tr>\n",
       "    <tr>\n",
       "      <th>DistanceFromHome</th>\n",
       "      <td>0.006963</td>\n",
       "      <td>-0.009730</td>\n",
       "      <td>1.000000</td>\n",
       "      <td>-0.008638</td>\n",
       "      <td>NaN</td>\n",
       "      <td>-0.001097</td>\n",
       "      <td>-0.037329</td>\n",
       "      <td>-0.021607</td>\n",
       "      <td>-0.013818</td>\n",
       "      <td>0.038125</td>\n",
       "      <td>NaN</td>\n",
       "      <td>0.011169</td>\n",
       "      <td>0.009361</td>\n",
       "      <td>-0.009001</td>\n",
       "      <td>0.031684</td>\n",
       "      <td>0.002290</td>\n",
       "      <td>0.021584</td>\n",
       "    </tr>\n",
       "    <tr>\n",
       "      <th>Education</th>\n",
       "      <td>-0.035706</td>\n",
       "      <td>-0.015111</td>\n",
       "      <td>-0.008638</td>\n",
       "      <td>1.000000</td>\n",
       "      <td>NaN</td>\n",
       "      <td>-0.009680</td>\n",
       "      <td>0.045746</td>\n",
       "      <td>0.006410</td>\n",
       "      <td>-0.016219</td>\n",
       "      <td>-0.040531</td>\n",
       "      <td>NaN</td>\n",
       "      <td>0.001261</td>\n",
       "      <td>-0.010712</td>\n",
       "      <td>0.010472</td>\n",
       "      <td>0.006080</td>\n",
       "      <td>0.022490</td>\n",
       "      <td>0.005358</td>\n",
       "    </tr>\n",
       "    <tr>\n",
       "      <th>EmployeeCount</th>\n",
       "      <td>NaN</td>\n",
       "      <td>NaN</td>\n",
       "      <td>NaN</td>\n",
       "      <td>NaN</td>\n",
       "      <td>NaN</td>\n",
       "      <td>NaN</td>\n",
       "      <td>NaN</td>\n",
       "      <td>NaN</td>\n",
       "      <td>NaN</td>\n",
       "      <td>NaN</td>\n",
       "      <td>NaN</td>\n",
       "      <td>NaN</td>\n",
       "      <td>NaN</td>\n",
       "      <td>NaN</td>\n",
       "      <td>NaN</td>\n",
       "      <td>NaN</td>\n",
       "      <td>NaN</td>\n",
       "    </tr>\n",
       "    <tr>\n",
       "      <th>EmployeeID</th>\n",
       "      <td>0.008649</td>\n",
       "      <td>-0.004729</td>\n",
       "      <td>-0.001097</td>\n",
       "      <td>-0.009680</td>\n",
       "      <td>NaN</td>\n",
       "      <td>1.000000</td>\n",
       "      <td>-0.003303</td>\n",
       "      <td>0.007338</td>\n",
       "      <td>-0.001114</td>\n",
       "      <td>-0.004456</td>\n",
       "      <td>NaN</td>\n",
       "      <td>-0.014254</td>\n",
       "      <td>-0.001061</td>\n",
       "      <td>-0.010191</td>\n",
       "      <td>0.004086</td>\n",
       "      <td>0.000256</td>\n",
       "      <td>0.008579</td>\n",
       "    </tr>\n",
       "    <tr>\n",
       "      <th>JobLevel</th>\n",
       "      <td>-0.002884</td>\n",
       "      <td>-0.010290</td>\n",
       "      <td>-0.037329</td>\n",
       "      <td>0.045746</td>\n",
       "      <td>NaN</td>\n",
       "      <td>-0.003303</td>\n",
       "      <td>1.000000</td>\n",
       "      <td>0.047316</td>\n",
       "      <td>-0.009844</td>\n",
       "      <td>0.010973</td>\n",
       "      <td>NaN</td>\n",
       "      <td>0.000993</td>\n",
       "      <td>-0.036934</td>\n",
       "      <td>-0.032500</td>\n",
       "      <td>-0.064219</td>\n",
       "      <td>-0.060811</td>\n",
       "      <td>-0.055251</td>\n",
       "    </tr>\n",
       "    <tr>\n",
       "      <th>MonthlyIncome</th>\n",
       "      <td>-0.044314</td>\n",
       "      <td>-0.031176</td>\n",
       "      <td>-0.021607</td>\n",
       "      <td>0.006410</td>\n",
       "      <td>NaN</td>\n",
       "      <td>0.007338</td>\n",
       "      <td>0.047316</td>\n",
       "      <td>1.000000</td>\n",
       "      <td>-0.020710</td>\n",
       "      <td>0.004325</td>\n",
       "      <td>NaN</td>\n",
       "      <td>0.026930</td>\n",
       "      <td>-0.033758</td>\n",
       "      <td>0.050112</td>\n",
       "      <td>0.000995</td>\n",
       "      <td>0.065219</td>\n",
       "      <td>0.024304</td>\n",
       "    </tr>\n",
       "    <tr>\n",
       "      <th>NumCompaniesWorked</th>\n",
       "      <td>0.298528</td>\n",
       "      <td>0.042232</td>\n",
       "      <td>-0.013818</td>\n",
       "      <td>-0.016219</td>\n",
       "      <td>NaN</td>\n",
       "      <td>-0.001114</td>\n",
       "      <td>-0.009844</td>\n",
       "      <td>-0.020710</td>\n",
       "      <td>1.000000</td>\n",
       "      <td>0.030825</td>\n",
       "      <td>NaN</td>\n",
       "      <td>0.017130</td>\n",
       "      <td>0.238052</td>\n",
       "      <td>-0.032239</td>\n",
       "      <td>-0.117820</td>\n",
       "      <td>-0.036618</td>\n",
       "      <td>-0.109480</td>\n",
       "    </tr>\n",
       "    <tr>\n",
       "      <th>PercentSalaryHike</th>\n",
       "      <td>-0.033137</td>\n",
       "      <td>0.032533</td>\n",
       "      <td>0.038125</td>\n",
       "      <td>-0.040531</td>\n",
       "      <td>NaN</td>\n",
       "      <td>-0.004456</td>\n",
       "      <td>0.010973</td>\n",
       "      <td>0.004325</td>\n",
       "      <td>0.030825</td>\n",
       "      <td>1.000000</td>\n",
       "      <td>NaN</td>\n",
       "      <td>0.012548</td>\n",
       "      <td>-0.018717</td>\n",
       "      <td>-0.037392</td>\n",
       "      <td>-0.029707</td>\n",
       "      <td>-0.029542</td>\n",
       "      <td>-0.040864</td>\n",
       "    </tr>\n",
       "    <tr>\n",
       "      <th>StandardHours</th>\n",
       "      <td>NaN</td>\n",
       "      <td>NaN</td>\n",
       "      <td>NaN</td>\n",
       "      <td>NaN</td>\n",
       "      <td>NaN</td>\n",
       "      <td>NaN</td>\n",
       "      <td>NaN</td>\n",
       "      <td>NaN</td>\n",
       "      <td>NaN</td>\n",
       "      <td>NaN</td>\n",
       "      <td>NaN</td>\n",
       "      <td>NaN</td>\n",
       "      <td>NaN</td>\n",
       "      <td>NaN</td>\n",
       "      <td>NaN</td>\n",
       "      <td>NaN</td>\n",
       "      <td>NaN</td>\n",
       "    </tr>\n",
       "    <tr>\n",
       "      <th>StockOptionLevel</th>\n",
       "      <td>-0.031753</td>\n",
       "      <td>-0.006839</td>\n",
       "      <td>0.011169</td>\n",
       "      <td>0.001261</td>\n",
       "      <td>NaN</td>\n",
       "      <td>-0.014254</td>\n",
       "      <td>0.000993</td>\n",
       "      <td>0.026930</td>\n",
       "      <td>0.017130</td>\n",
       "      <td>0.012548</td>\n",
       "      <td>NaN</td>\n",
       "      <td>1.000000</td>\n",
       "      <td>0.002693</td>\n",
       "      <td>-0.069902</td>\n",
       "      <td>0.007886</td>\n",
       "      <td>0.019063</td>\n",
       "      <td>0.017757</td>\n",
       "    </tr>\n",
       "    <tr>\n",
       "      <th>TotalWorkingYears</th>\n",
       "      <td>0.680419</td>\n",
       "      <td>-0.170111</td>\n",
       "      <td>0.009361</td>\n",
       "      <td>-0.010712</td>\n",
       "      <td>NaN</td>\n",
       "      <td>-0.001061</td>\n",
       "      <td>-0.036934</td>\n",
       "      <td>-0.033758</td>\n",
       "      <td>0.238052</td>\n",
       "      <td>-0.018717</td>\n",
       "      <td>NaN</td>\n",
       "      <td>0.002693</td>\n",
       "      <td>1.000000</td>\n",
       "      <td>-0.040705</td>\n",
       "      <td>0.626876</td>\n",
       "      <td>0.403995</td>\n",
       "      <td>0.458425</td>\n",
       "    </tr>\n",
       "    <tr>\n",
       "      <th>TrainingTimesLastYear</th>\n",
       "      <td>-0.027308</td>\n",
       "      <td>-0.049431</td>\n",
       "      <td>-0.009001</td>\n",
       "      <td>0.010472</td>\n",
       "      <td>NaN</td>\n",
       "      <td>-0.010191</td>\n",
       "      <td>-0.032500</td>\n",
       "      <td>0.050112</td>\n",
       "      <td>-0.032239</td>\n",
       "      <td>-0.037392</td>\n",
       "      <td>NaN</td>\n",
       "      <td>-0.069902</td>\n",
       "      <td>-0.040705</td>\n",
       "      <td>1.000000</td>\n",
       "      <td>-0.007894</td>\n",
       "      <td>0.016121</td>\n",
       "      <td>-0.013270</td>\n",
       "    </tr>\n",
       "    <tr>\n",
       "      <th>YearsAtCompany</th>\n",
       "      <td>0.311309</td>\n",
       "      <td>-0.134392</td>\n",
       "      <td>0.031684</td>\n",
       "      <td>0.006080</td>\n",
       "      <td>NaN</td>\n",
       "      <td>0.004086</td>\n",
       "      <td>-0.064219</td>\n",
       "      <td>0.000995</td>\n",
       "      <td>-0.117820</td>\n",
       "      <td>-0.029707</td>\n",
       "      <td>NaN</td>\n",
       "      <td>0.007886</td>\n",
       "      <td>0.626876</td>\n",
       "      <td>-0.007894</td>\n",
       "      <td>1.000000</td>\n",
       "      <td>0.618409</td>\n",
       "      <td>0.769212</td>\n",
       "    </tr>\n",
       "    <tr>\n",
       "      <th>YearsSinceLastPromotion</th>\n",
       "      <td>0.216513</td>\n",
       "      <td>-0.033019</td>\n",
       "      <td>0.002290</td>\n",
       "      <td>0.022490</td>\n",
       "      <td>NaN</td>\n",
       "      <td>0.000256</td>\n",
       "      <td>-0.060811</td>\n",
       "      <td>0.065219</td>\n",
       "      <td>-0.036618</td>\n",
       "      <td>-0.029542</td>\n",
       "      <td>NaN</td>\n",
       "      <td>0.019063</td>\n",
       "      <td>0.403995</td>\n",
       "      <td>0.016121</td>\n",
       "      <td>0.618409</td>\n",
       "      <td>1.000000</td>\n",
       "      <td>0.510224</td>\n",
       "    </tr>\n",
       "    <tr>\n",
       "      <th>YearsWithCurrManager</th>\n",
       "      <td>0.202089</td>\n",
       "      <td>-0.156199</td>\n",
       "      <td>0.021584</td>\n",
       "      <td>0.005358</td>\n",
       "      <td>NaN</td>\n",
       "      <td>0.008579</td>\n",
       "      <td>-0.055251</td>\n",
       "      <td>0.024304</td>\n",
       "      <td>-0.109480</td>\n",
       "      <td>-0.040864</td>\n",
       "      <td>NaN</td>\n",
       "      <td>0.017757</td>\n",
       "      <td>0.458425</td>\n",
       "      <td>-0.013270</td>\n",
       "      <td>0.769212</td>\n",
       "      <td>0.510224</td>\n",
       "      <td>1.000000</td>\n",
       "    </tr>\n",
       "  </tbody>\n",
       "</table>\n",
       "</div>"
      ],
      "text/plain": [
       "                              Age  Attrition  DistanceFromHome  Education  \\\n",
       "Age                      1.000000  -0.159205          0.006963  -0.035706   \n",
       "Attrition               -0.159205   1.000000         -0.009730  -0.015111   \n",
       "DistanceFromHome         0.006963  -0.009730          1.000000  -0.008638   \n",
       "Education               -0.035706  -0.015111         -0.008638   1.000000   \n",
       "EmployeeCount                 NaN        NaN               NaN        NaN   \n",
       "EmployeeID               0.008649  -0.004729         -0.001097  -0.009680   \n",
       "JobLevel                -0.002884  -0.010290         -0.037329   0.045746   \n",
       "MonthlyIncome           -0.044314  -0.031176         -0.021607   0.006410   \n",
       "NumCompaniesWorked       0.298528   0.042232         -0.013818  -0.016219   \n",
       "PercentSalaryHike       -0.033137   0.032533          0.038125  -0.040531   \n",
       "StandardHours                 NaN        NaN               NaN        NaN   \n",
       "StockOptionLevel        -0.031753  -0.006839          0.011169   0.001261   \n",
       "TotalWorkingYears        0.680419  -0.170111          0.009361  -0.010712   \n",
       "TrainingTimesLastYear   -0.027308  -0.049431         -0.009001   0.010472   \n",
       "YearsAtCompany           0.311309  -0.134392          0.031684   0.006080   \n",
       "YearsSinceLastPromotion  0.216513  -0.033019          0.002290   0.022490   \n",
       "YearsWithCurrManager     0.202089  -0.156199          0.021584   0.005358   \n",
       "\n",
       "                         EmployeeCount  EmployeeID  JobLevel  MonthlyIncome  \\\n",
       "Age                                NaN    0.008649 -0.002884      -0.044314   \n",
       "Attrition                          NaN   -0.004729 -0.010290      -0.031176   \n",
       "DistanceFromHome                   NaN   -0.001097 -0.037329      -0.021607   \n",
       "Education                          NaN   -0.009680  0.045746       0.006410   \n",
       "EmployeeCount                      NaN         NaN       NaN            NaN   \n",
       "EmployeeID                         NaN    1.000000 -0.003303       0.007338   \n",
       "JobLevel                           NaN   -0.003303  1.000000       0.047316   \n",
       "MonthlyIncome                      NaN    0.007338  0.047316       1.000000   \n",
       "NumCompaniesWorked                 NaN   -0.001114 -0.009844      -0.020710   \n",
       "PercentSalaryHike                  NaN   -0.004456  0.010973       0.004325   \n",
       "StandardHours                      NaN         NaN       NaN            NaN   \n",
       "StockOptionLevel                   NaN   -0.014254  0.000993       0.026930   \n",
       "TotalWorkingYears                  NaN   -0.001061 -0.036934      -0.033758   \n",
       "TrainingTimesLastYear              NaN   -0.010191 -0.032500       0.050112   \n",
       "YearsAtCompany                     NaN    0.004086 -0.064219       0.000995   \n",
       "YearsSinceLastPromotion            NaN    0.000256 -0.060811       0.065219   \n",
       "YearsWithCurrManager               NaN    0.008579 -0.055251       0.024304   \n",
       "\n",
       "                         NumCompaniesWorked  PercentSalaryHike  StandardHours  \\\n",
       "Age                                0.298528          -0.033137            NaN   \n",
       "Attrition                          0.042232           0.032533            NaN   \n",
       "DistanceFromHome                  -0.013818           0.038125            NaN   \n",
       "Education                         -0.016219          -0.040531            NaN   \n",
       "EmployeeCount                           NaN                NaN            NaN   \n",
       "EmployeeID                        -0.001114          -0.004456            NaN   \n",
       "JobLevel                          -0.009844           0.010973            NaN   \n",
       "MonthlyIncome                     -0.020710           0.004325            NaN   \n",
       "NumCompaniesWorked                 1.000000           0.030825            NaN   \n",
       "PercentSalaryHike                  0.030825           1.000000            NaN   \n",
       "StandardHours                           NaN                NaN            NaN   \n",
       "StockOptionLevel                   0.017130           0.012548            NaN   \n",
       "TotalWorkingYears                  0.238052          -0.018717            NaN   \n",
       "TrainingTimesLastYear             -0.032239          -0.037392            NaN   \n",
       "YearsAtCompany                    -0.117820          -0.029707            NaN   \n",
       "YearsSinceLastPromotion           -0.036618          -0.029542            NaN   \n",
       "YearsWithCurrManager              -0.109480          -0.040864            NaN   \n",
       "\n",
       "                         StockOptionLevel  TotalWorkingYears  \\\n",
       "Age                             -0.031753           0.680419   \n",
       "Attrition                       -0.006839          -0.170111   \n",
       "DistanceFromHome                 0.011169           0.009361   \n",
       "Education                        0.001261          -0.010712   \n",
       "EmployeeCount                         NaN                NaN   \n",
       "EmployeeID                      -0.014254          -0.001061   \n",
       "JobLevel                         0.000993          -0.036934   \n",
       "MonthlyIncome                    0.026930          -0.033758   \n",
       "NumCompaniesWorked               0.017130           0.238052   \n",
       "PercentSalaryHike                0.012548          -0.018717   \n",
       "StandardHours                         NaN                NaN   \n",
       "StockOptionLevel                 1.000000           0.002693   \n",
       "TotalWorkingYears                0.002693           1.000000   \n",
       "TrainingTimesLastYear           -0.069902          -0.040705   \n",
       "YearsAtCompany                   0.007886           0.626876   \n",
       "YearsSinceLastPromotion          0.019063           0.403995   \n",
       "YearsWithCurrManager             0.017757           0.458425   \n",
       "\n",
       "                         TrainingTimesLastYear  YearsAtCompany  \\\n",
       "Age                                  -0.027308        0.311309   \n",
       "Attrition                            -0.049431       -0.134392   \n",
       "DistanceFromHome                     -0.009001        0.031684   \n",
       "Education                             0.010472        0.006080   \n",
       "EmployeeCount                              NaN             NaN   \n",
       "EmployeeID                           -0.010191        0.004086   \n",
       "JobLevel                             -0.032500       -0.064219   \n",
       "MonthlyIncome                         0.050112        0.000995   \n",
       "NumCompaniesWorked                   -0.032239       -0.117820   \n",
       "PercentSalaryHike                    -0.037392       -0.029707   \n",
       "StandardHours                              NaN             NaN   \n",
       "StockOptionLevel                     -0.069902        0.007886   \n",
       "TotalWorkingYears                    -0.040705        0.626876   \n",
       "TrainingTimesLastYear                 1.000000       -0.007894   \n",
       "YearsAtCompany                       -0.007894        1.000000   \n",
       "YearsSinceLastPromotion               0.016121        0.618409   \n",
       "YearsWithCurrManager                 -0.013270        0.769212   \n",
       "\n",
       "                         YearsSinceLastPromotion  YearsWithCurrManager  \n",
       "Age                                     0.216513              0.202089  \n",
       "Attrition                              -0.033019             -0.156199  \n",
       "DistanceFromHome                        0.002290              0.021584  \n",
       "Education                               0.022490              0.005358  \n",
       "EmployeeCount                                NaN                   NaN  \n",
       "EmployeeID                              0.000256              0.008579  \n",
       "JobLevel                               -0.060811             -0.055251  \n",
       "MonthlyIncome                           0.065219              0.024304  \n",
       "NumCompaniesWorked                     -0.036618             -0.109480  \n",
       "PercentSalaryHike                      -0.029542             -0.040864  \n",
       "StandardHours                                NaN                   NaN  \n",
       "StockOptionLevel                        0.019063              0.017757  \n",
       "TotalWorkingYears                       0.403995              0.458425  \n",
       "TrainingTimesLastYear                   0.016121             -0.013270  \n",
       "YearsAtCompany                          0.618409              0.769212  \n",
       "YearsSinceLastPromotion                 1.000000              0.510224  \n",
       "YearsWithCurrManager                    0.510224              1.000000  "
      ]
     },
     "execution_count": 87,
     "metadata": {},
     "output_type": "execute_result"
    }
   ],
   "source": [
    "label_encoder = preprocessing.LabelEncoder() \n",
    "dataset.head()\n",
    "dataset['Attrition']= label_encoder.fit_transform(dataset['Attrition']) \n",
    "dataset.corr()"
   ]
  },
  {
   "cell_type": "markdown",
   "metadata": {},
   "source": [
    "# Statistical Tests"
   ]
  },
  {
   "cell_type": "code",
   "execution_count": 84,
   "metadata": {},
   "outputs": [],
   "source": [
    "ds_test_Yes=dataset[dataset['Attrition']=='Yes']\n",
    "ds_test_No=dataset[dataset['Attrition']=='No']\n",
    "from scipy.stats import mannwhitneyu \n",
    "from scipy.stats import ttest_ind\n",
    "from scipy.stats import pearsonr"
   ]
  },
  {
   "cell_type": "code",
   "execution_count": 88,
   "metadata": {},
   "outputs": [
    {
     "name": "stdout",
     "output_type": "stream",
     "text": [
      "908192.0 1.3683394202436042e-39\n",
      "True\n",
      "-11.46121391820983 5.473147954387151e-30\n",
      "True\n",
      "-0.17011136633027235 5.473147954380502e-30\n",
      "True\n"
     ]
    }
   ],
   "source": [
    "## H0 There is no significance difference in the total working years for Attrition(Y)and Attrition(N)\n",
    "## Ha There is significance difference in the total working years for Attrition(Y)and Attrition(N)\n",
    "\n",
    "from scipy.stats import mannwhitneyu \n",
    "stats,p=mannwhitneyu(ds_test_Yes['TotalWorkingYears'],ds_test_No['TotalWorkingYears'])\n",
    "print(stats,p)\n",
    "print(p<0.05)\n",
    "\n",
    "stats,p=ttest_ind(ds_test_Yes['TotalWorkingYears'],ds_test_No['TotalWorkingYears'])\n",
    "print(stats,p)\n",
    "print(p<0.05)\n",
    "\n",
    "stats,p=pearsonr(dataset['Attrition'],dataset['TotalWorkingYears'])\n",
    "print(stats,p)\n",
    "print(p<0.05)\n",
    "\n",
    "\n",
    "##As p<0.05 , H0 is rejected"
   ]
  },
  {
   "cell_type": "code",
   "execution_count": 89,
   "metadata": {},
   "outputs": [
    {
     "name": "stdout",
     "output_type": "stream",
     "text": [
      "961731.0 2.9951588479067175e-30\n",
      "True\n",
      "-10.70661860061757 1.9968016158894556e-26\n",
      "True\n",
      "-0.15920500686577943 1.996801615887666e-26\n",
      "True\n"
     ]
    }
   ],
   "source": [
    "## H0 There is no significance difference in the Age for Attrition(Y)and Attrition(N)\n",
    "## H0 There is  significance difference in the Age for Attrition(Y)and Attrition(N)\n",
    "\n",
    "from scipy.stats import mannwhitneyu \n",
    "stats,p=mannwhitneyu(ds_test_Yes['Age'],ds_test_No['Age'])\n",
    "print(stats,p)\n",
    "print(p<0.05)\n",
    "\n",
    "stats,p=ttest_ind(ds_test_Yes['Age'],ds_test_No['Age'])\n",
    "print(stats,p)\n",
    "print(p<0.05)\n",
    "\n",
    "stats,p=pearsonr(dataset['Attrition'],dataset['Age'])\n",
    "print(stats,p)\n",
    "print(p<0.05)\n",
    "##As p<0.05 , H0 is rejected"
   ]
  },
  {
   "cell_type": "code",
   "execution_count": 90,
   "metadata": {},
   "outputs": [
    {
     "name": "stdout",
     "output_type": "stream",
     "text": [
      "1312110.0 0.4629185205822659\n",
      "False\n",
      "-0.6460416038042738 0.518286042805572\n",
      "False\n",
      "-0.00973014101017969 0.5182860428050771\n",
      "False\n"
     ]
    }
   ],
   "source": [
    "## H0 There is no significance difference in the DistanceFromHome for Attrition(Y)and Attrition(N)\n",
    "## Ha There is significance difference in the DistanceFromHome for Attrition(Y)and Attrition(N)\n",
    "\n",
    "from scipy.stats import mannwhitneyu \n",
    "\n",
    "stats,p=mannwhitneyu(ds_test_Yes['DistanceFromHome'],ds_test_No['DistanceFromHome'])\n",
    "print(stats,p)\n",
    "print(p<0.05)\n",
    "\n",
    "stats,p=ttest_ind(ds_test_Yes['DistanceFromHome'],ds_test_No['DistanceFromHome'])\n",
    "print(stats,p)\n",
    "print(p<0.05)\n",
    "\n",
    "stats,p=pearsonr(dataset['Attrition'],dataset['DistanceFromHome'])\n",
    "print(stats,p)\n",
    "print(p<0.05)\n",
    "##As p<0.05 , H0 is accepted"
   ]
  },
  {
   "cell_type": "code",
   "execution_count": 91,
   "metadata": {},
   "outputs": [
    {
     "name": "stdout",
     "output_type": "stream",
     "text": [
      "957253.5 1.2365483142169853e-31\n",
      "True\n",
      "-10.499379408703438 1.7339322652918153e-25\n",
      "True\n",
      "-0.1561993159016281 1.7339322652904162e-25\n",
      "True\n"
     ]
    }
   ],
   "source": [
    "## H0 There is no significance difference in the YearsWithCurrManager for Attrition(Y)and Attrition(N)\n",
    "## Ha There is significance difference in the YearsWithCurrManager for Attrition(Y)and Attrition(N)\n",
    "\n",
    "from scipy.stats import mannwhitneyu \n",
    "\n",
    "stats,p=mannwhitneyu(ds_test_Yes['YearsWithCurrManager'],ds_test_No['YearsWithCurrManager'])\n",
    "print(stats,p)\n",
    "print(p<0.05)\n",
    "\n",
    "stats,p=ttest_ind(ds_test_Yes['YearsWithCurrManager'],ds_test_No['YearsWithCurrManager'])\n",
    "print(stats,p)\n",
    "print(p<0.05)\n",
    "\n",
    "stats,p=pearsonr(dataset['Attrition'],dataset['YearsWithCurrManager'])\n",
    "print(stats,p)\n",
    "print(p<0.05)"
   ]
  },
  {
   "cell_type": "code",
   "execution_count": 92,
   "metadata": {},
   "outputs": [
    {
     "name": "stdout",
     "output_type": "stream",
     "text": [
      "923238.0 6.047598261692858e-37\n",
      "True\n",
      "-9.004357011787226 3.163883122491456e-19\n",
      "True\n",
      "-0.13439221398997714 3.1638831224877484e-19\n",
      "True\n"
     ]
    }
   ],
   "source": [
    "## H0 There is no significance difference in the YearsAtCompany for Attrition(Y)and Attrition(N)\n",
    "## Ha There is significance difference in the YearsAtCompany for Attrition(Y)and Attrition(N)\n",
    "\n",
    "from scipy.stats import mannwhitneyu \n",
    "stats,p=mannwhitneyu(ds_test_Yes['YearsAtCompany'],ds_test_No['YearsAtCompany'])\n",
    "print(stats,p)\n",
    "print(p<0.05)\n",
    "\n",
    "stats,p=ttest_ind(ds_test_Yes['YearsAtCompany'],ds_test_No['YearsAtCompany'])\n",
    "print(stats,p)\n",
    "print(p<0.05)\n",
    "\n",
    "stats,p=pearsonr(dataset['Attrition'],dataset['YearsAtCompany'])\n",
    "print(stats,p)\n",
    "print(p<0.05)\n",
    "\n",
    "##As p<0.05 , H0 is rejected"
   ]
  },
  {
   "cell_type": "code",
   "execution_count": 93,
   "metadata": {},
   "outputs": [
    {
     "name": "stdout",
     "output_type": "stream",
     "text": [
      "1209366.0 0.0002021180346719736\n",
      "True\n",
      "-2.1934039604328843 0.028330336189428353\n",
      "True\n",
      "-0.03301877514258435 0.028330336189396753\n",
      "True\n"
     ]
    }
   ],
   "source": [
    "## H0 There is no significance difference in the YearsSinceLastPromotion for Attrition(Y)and Attrition(N)\n",
    "from scipy.stats import mannwhitneyu \n",
    "## Ha There is  significance difference in the YearsSinceLastPromotion for Attrition(Y)and Attrition(N)\n",
    "\n",
    "stats,p=mannwhitneyu(ds_test_Yes['YearsSinceLastPromotion'],ds_test_No['YearsSinceLastPromotion'])\n",
    "print(stats,p)\n",
    "print(p<0.05)\n",
    "\n",
    "stats,p=ttest_ind(ds_test_Yes['YearsSinceLastPromotion'],ds_test_No['YearsSinceLastPromotion'])\n",
    "print(stats,p)\n",
    "print(p<0.05)\n",
    "\n",
    "stats,p=pearsonr(dataset['Attrition'],dataset['YearsSinceLastPromotion'])\n",
    "print(stats,p)\n",
    "print(p<0.05)\n",
    "\n",
    "##As p<0.05 , H0 is rejected"
   ]
  },
  {
   "cell_type": "code",
   "execution_count": 72,
   "metadata": {},
   "outputs": [
    {
     "name": "stdout",
     "output_type": "stream",
     "text": [
      "True\n"
     ]
    }
   ],
   "source": [
    "##H0-  there is no dependency of JobRole and Attrition\n",
    "from scipy.stats import chi2_contingency\n",
    "ds_chi_cont_table=pd.crosstab(dataset['JobRole'],dataset['Attrition'])\n",
    "stats,p,dof,expected=chi2_contingency(ds_chi_cont_table)\n",
    "print(p<0.05)"
   ]
  },
  {
   "cell_type": "code",
   "execution_count": 71,
   "metadata": {},
   "outputs": [
    {
     "name": "stdout",
     "output_type": "stream",
     "text": [
      "False\n"
     ]
    }
   ],
   "source": [
    "## H0- there is no relation between Gender and Attrition\n",
    "from scipy.stats import chi2_contingency\n",
    "ds_chi_cont_table=pd.crosstab(dataset['Gender'],dataset['Attrition'])\n",
    "stats,p,dof,expected=chi2_contingency(ds_chi_cont_table)\n",
    "print(p<0.05)\n",
    "## H0 accepted"
   ]
  },
  {
   "cell_type": "code",
   "execution_count": 69,
   "metadata": {},
   "outputs": [
    {
     "name": "stdout",
     "output_type": "stream",
     "text": [
      "True\n"
     ]
    }
   ],
   "source": [
    "## H0- there is no relation between Business Travel and Attrition\n",
    "from scipy.stats import chi2_contingency\n",
    "ds_chi_cont_table=pd.crosstab(dataset['BusinessTravel'],dataset['Attrition'])\n",
    "stats,p,dof,expected=chi2_contingency(ds_chi_cont_table)\n",
    "print(p<0.05)\n",
    "## H0 rejected"
   ]
  },
  {
   "cell_type": "code",
   "execution_count": 94,
   "metadata": {},
   "outputs": [
    {
     "name": "stdout",
     "output_type": "stream",
     "text": [
      "True\n"
     ]
    }
   ],
   "source": [
    "## H0- there is no relation between Marital Status and Attrition\n",
    "from scipy.stats import chi2_contingency\n",
    "ds_chi_cont_table=pd.crosstab(dataset['MaritalStatus'],dataset['Attrition'])\n",
    "stats,p,dof,expected=chi2_contingency(ds_chi_cont_table)\n",
    "print(p<0.05)\n",
    "## H0 rejected\n"
   ]
  },
  {
   "cell_type": "code",
   "execution_count": null,
   "metadata": {},
   "outputs": [],
   "source": []
  }
 ],
 "metadata": {
  "kernelspec": {
   "display_name": "Python 3",
   "language": "python",
   "name": "python3"
  },
  "language_info": {
   "codemirror_mode": {
    "name": "ipython",
    "version": 3
   },
   "file_extension": ".py",
   "mimetype": "text/x-python",
   "name": "python",
   "nbconvert_exporter": "python",
   "pygments_lexer": "ipython3",
   "version": "3.7.6"
  }
 },
 "nbformat": 4,
 "nbformat_minor": 4
}
