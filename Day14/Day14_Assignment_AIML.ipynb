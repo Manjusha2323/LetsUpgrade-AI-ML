{
 "cells": [
  {
   "cell_type": "markdown",
   "metadata": {},
   "source": [
    "# 1. Create a 3x3x3 array with random values "
   ]
  },
  {
   "cell_type": "code",
   "execution_count": 5,
   "metadata": {},
   "outputs": [
    {
     "data": {
      "text/plain": [
       "array([[0.79647136, 0.36379883, 0.60913408],\n",
       "       [0.79906574, 0.34430421, 0.73471346],\n",
       "       [0.93911047, 0.90341763, 0.09466535]])"
      ]
     },
     "execution_count": 5,
     "metadata": {},
     "output_type": "execute_result"
    }
   ],
   "source": [
    "import numpy as np\n",
    "np.random.random((3,3))"
   ]
  },
  {
   "cell_type": "markdown",
   "metadata": {},
   "source": [
    "# 2.Create a 5x5 matrix with values 1,2,3,4 just below the diagonal"
   ]
  },
  {
   "cell_type": "code",
   "execution_count": 29,
   "metadata": {},
   "outputs": [
    {
     "name": "stdout",
     "output_type": "stream",
     "text": [
      "[[0 0 0 0 0]\n",
      " [1 0 0 0 0]\n",
      " [0 2 0 0 0]\n",
      " [0 0 3 0 0]\n",
      " [0 0 0 4 0]]\n"
     ]
    }
   ],
   "source": [
    "import numpy as np\n",
    "a=np.roll(np.diag(np.array([0,1,2,3,4])),-1)\n",
    "print(a)\n"
   ]
  },
  {
   "cell_type": "markdown",
   "metadata": {},
   "source": [
    "# 3.Create a 8x8 matrix and fill it with a checkerboard pattern"
   ]
  },
  {
   "cell_type": "code",
   "execution_count": 61,
   "metadata": {},
   "outputs": [
    {
     "name": "stdout",
     "output_type": "stream",
     "text": [
      "[[1 0 1 0 1 0 1 0]\n",
      " [0 1 0 1 0 1 0 1]\n",
      " [1 0 1 0 1 0 1 0]\n",
      " [0 1 0 1 0 1 0 1]\n",
      " [1 0 1 0 1 0 1 0]\n",
      " [0 1 0 1 0 1 0 1]\n",
      " [1 0 1 0 1 0 1 0]\n",
      " [0 1 0 1 0 1 0 1]]\n"
     ]
    }
   ],
   "source": [
    "import numpy as np\n",
    "checkboard=np.zeros((8,8),dtype=int)\n",
    "checkboard[0:8:2,0:8:2]=1\n",
    "checkboard[1:8:2,1:8:2]=1\n",
    "print(checkboard)"
   ]
  },
  {
   "cell_type": "markdown",
   "metadata": {},
   "source": [
    "# 4. Normalize a 5x5 random matrix"
   ]
  },
  {
   "cell_type": "code",
   "execution_count": 72,
   "metadata": {},
   "outputs": [
    {
     "name": "stdout",
     "output_type": "stream",
     "text": [
      "[[0.98951802 0.56606222 0.43785848 0.10179133 0.05273498]\n",
      " [0.57661291 0.46878551 0.75807558 0.0681005  0.28436612]\n",
      " [0.83285666 0.69338725 0.97943813 0.24938297 0.26951181]\n",
      " [0.61439489 0.46102794 0.58364119 0.2315007  0.67945563]\n",
      " [0.14200314 0.74943063 0.02071559 0.75570943 0.0702529 ]]\n",
      "[[1.         0.56290799 0.43057581 0.08368655 0.03305048]\n",
      " [0.57379844 0.46249875 0.7611046  0.04891081 0.27214066]\n",
      " [0.8382938  0.69433317 0.98959551 0.23603097 0.25680801]\n",
      " [0.61279708 0.45449137 0.58105304 0.21757285 0.67995292]\n",
      " [0.12519327 0.75218127 0.         0.75866226 0.05113252]]\n"
     ]
    }
   ],
   "source": [
    "import numpy as np\n",
    "norm_matrix=np.random.random((5,5))\n",
    "print(norm_matrix)\n",
    "norm_min,norm_max=norm_matrix.min(),norm_matrix.max()\n",
    "norm_matrix = (norm_matrix - norm_min)/(norm_max - norm_min)\n",
    "print(norm_matrix)"
   ]
  },
  {
   "cell_type": "markdown",
   "metadata": {},
   "source": [
    "# 5.  How to find common values between two arrays?"
   ]
  },
  {
   "cell_type": "code",
   "execution_count": 81,
   "metadata": {},
   "outputs": [
    {
     "name": "stdout",
     "output_type": "stream",
     "text": [
      "[2 5 6]\n",
      "[1 4 5 6 7]\n"
     ]
    }
   ],
   "source": [
    "import numpy as np\n",
    "onearr1=np.array([1,2,3,4,5,6])\n",
    "onearr2=np.array([2,5,6,7,8,9])\n",
    "print(np.intersect1d(onearr1,onearr2))\n",
    "\n",
    "twoarr1=np.array([[1,2,3,4],[4,5,6,7]])\n",
    "twoarr2=np.array([[4,9,10,11],[1,5,6,7]])\n",
    "print(np.intersect1d(twoarr1,twoarr2))"
   ]
  },
  {
   "cell_type": "markdown",
   "metadata": {},
   "source": [
    "# 6.How to get the dates of yesterday, today and tomorrow?"
   ]
  },
  {
   "cell_type": "code",
   "execution_count": 86,
   "metadata": {},
   "outputs": [
    {
     "name": "stdout",
     "output_type": "stream",
     "text": [
      "Yesterday : 2020-07-27\n",
      "Today : 2020-07-28\n",
      "Tomorrow : 2020-07-29\n"
     ]
    }
   ],
   "source": [
    "import numpy as np\n",
    "print(\"Yesterday :\" , np.datetime64('today','D')-np.timedelta64(1,'D'))\n",
    "print(\"Today :\" , np.datetime64('today','D'))\n",
    "print(\"Tomorrow :\" , np.datetime64('today','D')+np.timedelta64(1,'D'))"
   ]
  },
  {
   "cell_type": "markdown",
   "metadata": {},
   "source": [
    "# 7. Consider two random array A and B, check if they are equal"
   ]
  },
  {
   "cell_type": "code",
   "execution_count": 113,
   "metadata": {
    "scrolled": true
   },
   "outputs": [
    {
     "name": "stdout",
     "output_type": "stream",
     "text": [
      "[0.03259022 0.70761801 0.04640112 0.728658   0.29930171 0.55165505\n",
      " 0.21045091 0.3582763  0.29723673 0.10119825]\n",
      "[0.69265938 0.56214181 0.92735403 0.22855784 0.69292157 0.26114139\n",
      " 0.18286596 0.84855352 0.61724686 0.09618952]\n",
      "Arrays are not equal\n"
     ]
    }
   ],
   "source": [
    "import numpy as np\n",
    "aran1=np.random.random((10))\n",
    "aran2=np.random.random((10))\n",
    "print(aran1)\n",
    "print(aran2)\n",
    "\n",
    "if np.allclose(aran1,aran2):\n",
    "    print(\"Arrays are equal\")\n",
    "else:\n",
    "    print(\"Arrays are not equal\")\n",
    "    "
   ]
  },
  {
   "cell_type": "markdown",
   "metadata": {},
   "source": [
    "# 8.Create random vector of size 10 and replace the maximum value by 0 \n"
   ]
  },
  {
   "cell_type": "code",
   "execution_count": 110,
   "metadata": {},
   "outputs": [
    {
     "name": "stdout",
     "output_type": "stream",
     "text": [
      "Original Vector\n",
      " [0.56691905 0.63021821 0.61833601 0.62136235 0.07702405 0.23774669\n",
      " 0.32588029 0.76442506 0.86812731 0.370731  ]\n",
      "Modified Vector\n",
      " [0.56691905 0.63021821 0.61833601 0.62136235 0.07702405 0.23774669\n",
      " 0.32588029 0.76442506 0.         0.370731  ]\n"
     ]
    }
   ],
   "source": [
    "import numpy as np\n",
    "arr10=np.random.random(10)\n",
    "print(\"Original Vector\\n\",arr10)\n",
    "arr10[arr10.argmax()]=0\n",
    "print(\"Modified Vector\\n\",arr10)"
   ]
  },
  {
   "cell_type": "markdown",
   "metadata": {},
   "source": [
    "# 9. How to print all the values of an array?"
   ]
  },
  {
   "cell_type": "code",
   "execution_count": 117,
   "metadata": {},
   "outputs": [
    {
     "name": "stdout",
     "output_type": "stream",
     "text": [
      "[[0. 0. 0. 0. 0.]\n",
      " [0. 0. 0. 0. 0.]\n",
      " [0. 0. 0. 0. 0.]\n",
      " [0. 0. 0. 0. 0.]\n",
      " [0. 0. 0. 0. 0.]]\n"
     ]
    }
   ],
   "source": [
    "import numpy as np\n",
    "np.set_printoptions(threshold=np.inf)\n",
    "arrpr=np.zeros((5,5))\n",
    "print(arrpr)"
   ]
  },
  {
   "cell_type": "markdown",
   "metadata": {},
   "source": [
    "# 10.Subtract the mean of each row of a matrix"
   ]
  },
  {
   "cell_type": "code",
   "execution_count": 137,
   "metadata": {},
   "outputs": [
    {
     "name": "stdout",
     "output_type": "stream",
     "text": [
      "Original Matrix:  [[0.9228448  0.43988465 0.38041331]\n",
      " [0.86449183 0.9407291  0.19961288]\n",
      " [0.93649341 0.50887386 0.87586905]\n",
      " [0.88467608 0.42931407 0.12472289]]\n",
      "\n",
      "\n",
      "Subtracted Matrix:  [[ 0.34179721 -0.14116294 -0.20063428]\n",
      " [ 0.19621389  0.27245116 -0.46866505]\n",
      " [ 0.16274797 -0.26487158  0.10212361]\n",
      " [ 0.40510507 -0.05025695 -0.35484812]]\n"
     ]
    }
   ],
   "source": [
    "import numpy as np\n",
    "subarr1=np.random.random((4,3))\n",
    "print(\"Original Matrix: \",subarr1)\n",
    "print(\"\\n\")\n",
    "\n",
    "\n",
    "print(\"Subtracted Matrix: \", subarr1-subarr1.mean(axis=1,keepdims=True))\n"
   ]
  },
  {
   "cell_type": "markdown",
   "metadata": {},
   "source": [
    "# 11.Consider a given vector, how to add 1 to each element indexed by a second vector (be careful with repeated indices)? "
   ]
  },
  {
   "cell_type": "code",
   "execution_count": 188,
   "metadata": {},
   "outputs": [
    {
     "name": "stdout",
     "output_type": "stream",
     "text": [
      "Original Vector is : [1 7 4 9 3 1 2 5 5 4]\n",
      "Original Vector increased by 1 is : [ 2.  8.  5. 10.  4.  2.  3.  6.  6.  5.]\n"
     ]
    }
   ],
   "source": [
    "import numpy as np\n",
    "\n",
    "vec1=np.ones(10)\n",
    "vec2=np.random.randint(0,len(vec1),10)\n",
    "print(\"Original Vector is :\",vec2)\n",
    "print(\"Original Vector increased by 1 is :\",vec1+vec2)\n"
   ]
  },
  {
   "cell_type": "code",
   "execution_count": null,
   "metadata": {},
   "outputs": [],
   "source": []
  },
  {
   "cell_type": "markdown",
   "metadata": {},
   "source": [
    "# 12.How to get the diagonal of a dot product?"
   ]
  },
  {
   "cell_type": "code",
   "execution_count": 141,
   "metadata": {},
   "outputs": [
    {
     "name": "stdout",
     "output_type": "stream",
     "text": [
      "Array1 : [[0.95688631 0.80996799 0.66004142]\n",
      " [0.71923496 0.45978225 0.19780403]\n",
      " [0.77262899 0.50823088 0.21635744]] \n",
      "\n",
      "Array2 : [[0.68985249 0.12867522 0.53746055]\n",
      " [0.04847473 0.72120857 0.80396119]\n",
      " [0.59817283 0.97049939 0.72872132]] \n",
      "\n",
      "Dot Product : [[1.09419224 1.34785321 1.64645773]\n",
      " [0.63677485 0.61611531 0.90035152]\n",
      " [0.68705553 0.67593343 0.98151978]] \n",
      "\n",
      "Diagonal of Dot Product:  [1.09419224 0.61611531 0.98151978] \n",
      "\n"
     ]
    }
   ],
   "source": [
    "import numpy as np\n",
    "dotarr1=np.random.random((3,3))\n",
    "dotarr2=np.random.random((3,3))\n",
    "print(\"Array1 :\",dotarr1,\"\\n\")\n",
    "print(\"Array2 :\",dotarr2,\"\\n\")\n",
    "print(\"Dot Product :\",np.dot(dotarr1,dotarr2),\"\\n\")\n",
    "print(\"Diagonal of Dot Product: \",np.diag(np.dot(dotarr1,dotarr2)),\"\\n\")"
   ]
  },
  {
   "cell_type": "markdown",
   "metadata": {},
   "source": [
    "# 13.How to find the most frequent value in an array?"
   ]
  },
  {
   "cell_type": "code",
   "execution_count": 155,
   "metadata": {},
   "outputs": [
    {
     "name": "stdout",
     "output_type": "stream",
     "text": [
      "The most frequent value in the array is : [4]\n"
     ]
    }
   ],
   "source": [
    "import numpy as np\n",
    "from scipy import stats\n",
    "freqarr=np.array([1,2,3,9,4,5,6,7,8,9,2,3,4,4,4,9,9,9,9,9,4,4,4])\n",
    "print(\"The most frequent value in the array is :\",stats.mode(freqarr)[0])"
   ]
  },
  {
   "cell_type": "markdown",
   "metadata": {},
   "source": [
    "# 14.How to get the n largest values of an array"
   ]
  },
  {
   "cell_type": "code",
   "execution_count": 160,
   "metadata": {},
   "outputs": [
    {
     "name": "stdout",
     "output_type": "stream",
     "text": [
      "The max value in the array is : 9\n"
     ]
    }
   ],
   "source": [
    "import numpy as np\n",
    "\n",
    "maxarr=np.array([1,2,3,9,4,5,6,7,8,9,2,3,4,4,4,9,9,9,9,9,4,4,4])\n",
    "print(\"The max value in the array is :\",np.max(maxarr))\n"
   ]
  },
  {
   "cell_type": "markdown",
   "metadata": {},
   "source": [
    "# 15.How to create a record array from a regular array?"
   ]
  },
  {
   "cell_type": "code",
   "execution_count": 170,
   "metadata": {},
   "outputs": [
    {
     "name": "stdout",
     "output_type": "stream",
     "text": [
      "First Name Array is : ['Nancy' 'Herculus' 'Sherlock'] \n",
      "\n",
      "SurName Array is : ['Drew' 'Poirot' 'Holmes'] \n",
      "\n",
      "Age Array is : ['18' '12' '28'] \n",
      "\n",
      "Record Array is:  [('Nancy', 'Drew', '18') ('Herculus', 'Poirot', '12')\n",
      " ('Sherlock', 'Holmes', '28')]\n"
     ]
    }
   ],
   "source": [
    "import numpy as np\n",
    "namearr=np.array(['Nancy','Herculus','Sherlock'])\n",
    "print(\"First Name Array is :\", namearr,\"\\n\")\n",
    "surnamearr=np.array(['Drew','Poirot','Holmes'])\n",
    "print(\"SurName Array is :\", surnamearr,\"\\n\")\n",
    "agearr=np.array(['18','12','28'])\n",
    "print(\"Age Array is :\", agearr,\"\\n\")\n",
    "result= np.core.records.fromarrays([namearr, surnamearr, agearr],names='detective1,detective2,detective3')\n",
    "print(\"Record Array is: \",result)"
   ]
  },
  {
   "cell_type": "code",
   "execution_count": null,
   "metadata": {},
   "outputs": [],
   "source": []
  }
 ],
 "metadata": {
  "kernelspec": {
   "display_name": "Python 3",
   "language": "python",
   "name": "python3"
  },
  "language_info": {
   "codemirror_mode": {
    "name": "ipython",
    "version": 3
   },
   "file_extension": ".py",
   "mimetype": "text/x-python",
   "name": "python",
   "nbconvert_exporter": "python",
   "pygments_lexer": "ipython3",
   "version": "3.7.6"
  }
 },
 "nbformat": 4,
 "nbformat_minor": 2
}
