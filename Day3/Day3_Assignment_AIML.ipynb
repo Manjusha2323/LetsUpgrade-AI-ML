{
 "cells": [
  {
   "cell_type": "code",
   "execution_count": 1,
   "metadata": {},
   "outputs": [
    {
     "name": "stdout",
     "output_type": "stream",
     "text": [
      "(-2+7j)\n"
     ]
    }
   ],
   "source": [
    "##Question 1 - Subtract 2 complex numbers\n",
    "a=1+2j\n",
    "b=3-5j\n",
    "print(a-b)"
   ]
  },
  {
   "cell_type": "code",
   "execution_count": 5,
   "metadata": {},
   "outputs": [
    {
     "name": "stdout",
     "output_type": "stream",
     "text": [
      "The fourth root of a is  2.0\n"
     ]
    }
   ],
   "source": [
    "## Question 2 - Find the fourthe root of a number\n",
    "a=16\n",
    "print(\"The fourth root of a is \",a**0.25)"
   ]
  },
  {
   "cell_type": "code",
   "execution_count": 8,
   "metadata": {},
   "outputs": [
    {
     "name": "stdout",
     "output_type": "stream",
     "text": [
      "Num1 is  10 Num2 is 20\n",
      "Numbers are swapped now! Num1 is  20 Num2 is 10\n"
     ]
    }
   ],
   "source": [
    "## Question 3 Swap 2 numbers with the help of a temporary variable\n",
    "num1=10\n",
    "num2=20\n",
    "print(\"Num1 is \",num1, \"Num2 is\",num2)\n",
    "temp_num=num1\n",
    "num1=num2\n",
    "num2=temp_num\n",
    "print(\"Numbers are swapped now! Num1 is \",num1, \"Num2 is\",num2)\n",
    "\n"
   ]
  },
  {
   "cell_type": "code",
   "execution_count": 10,
   "metadata": {},
   "outputs": [
    {
     "name": "stdout",
     "output_type": "stream",
     "text": [
      "Num1 is  [10] Num2 is [20]\n",
      "Numbers are swapped now! Num1 is  [20] Num2 is [10]\n"
     ]
    }
   ],
   "source": [
    "## Question 4 Swap 2 numbers without a temporary variable\n",
    "num1=[10]\n",
    "num2=[20]\n",
    "print(\"Num1 is \",num1, \"Num2 is\",num2)\n",
    "num1,num2=num2,num1\n",
    "print(\"Numbers are swapped now! Num1 is \",num1, \"Num2 is\",num2)\n"
   ]
  },
  {
   "cell_type": "code",
   "execution_count": 22,
   "metadata": {},
   "outputs": [
    {
     "name": "stdout",
     "output_type": "stream",
     "text": [
      "Temperature in celsius is  37.778\n",
      "Temperature in kelvin is  310.928\n"
     ]
    }
   ],
   "source": [
    "##Question 5 Convert from farenheit to kelvin and celsius\n",
    "temp_farenheit=100\n",
    "print(\"Temperature in celsius is \", round(((temp_farenheit-32)*5/9),3))\n",
    "print(\"Temperature in kelvin is \",round(((temp_farenheit-32)*5/9+273.15),3))"
   ]
  },
  {
   "cell_type": "code",
   "execution_count": 36,
   "metadata": {},
   "outputs": [
    {
     "name": "stdout",
     "output_type": "stream",
     "text": [
      "int_num is of the type  <class 'int'>\n",
      "float_num is of the type  <class 'float'>\n",
      "complex_num is of the type  <class 'complex'>\n",
      "str is of the type  <class 'str'>\n",
      "true_or_false is of the type  <class 'bool'>\n",
      "list_example is of the type  <class 'list'>\n",
      "tuple_example is of the type  <class 'tuple'>\n",
      "dict_example is of the type  <class 'set'>\n",
      "dict_example is of the type  <class 'dict'>\n"
     ]
    }
   ],
   "source": [
    "#Question 6 Demonstrate all data types in Python\n",
    "int_num=20\n",
    "print(\"int_num is of the type \",type(int_num))\n",
    "\n",
    "float_num=20.22\n",
    "print(\"float_num is of the type \",type(float_num))\n",
    "\n",
    "complex_num=20+3j\n",
    "print(\"complex_num is of the type \",type(complex_num))\n",
    "\n",
    "string=\"Learning Python\"\n",
    "print(\"str is of the type \",type(string))\n",
    "\n",
    "true_or_false=True\n",
    "print(\"true_or_false is of the type \",type(true_or_false))\n",
    "\n",
    "list_example=[1,2,3,4]\n",
    "print(\"list_example is of the type \",type(list_example))\n",
    "\n",
    "tuple_example=(1,2,3,4)\n",
    "print(\"tuple_example is of the type \",type(tuple_example))\n",
    "\n",
    "set_example={1,2,3,4}\n",
    "print(\"dict_example is of the type \",type(set_example))\n",
    "\n",
    "dict_example={1:2,3:4}\n",
    "print(\"dict_example is of the type \",type(dict_example))"
   ]
  },
  {
   "cell_type": "markdown",
   "metadata": {},
   "source": [
    "# How to submit your assignments\n",
    "\n",
    "##  Create your github profile\n",
    "\n",
    "If you already have a profile login to your profile and go to Step 4 directly\n",
    "\n",
    "    1)Go to github.com\n",
    "    \n",
    "    2)Sign up with required credentials.\n",
    "    \n",
    "    3)Click on Repositories\n",
    "    \n",
    "    4)Click on New\n",
    "    \n",
    "    5)Create a repository by the name LetsUpgrade-AI-ML\n",
    "    \n",
    "    6)If your username is xxxxxxx the repository would appear as xxxxxxx/LetsUpgrade-AI-ML\n",
    "    \n",
    "    7)Leave the other details as it is \n",
    "    \n",
    "    8)Ensure that the public radio button is clicked\n",
    "    \n",
    "    9)Click on Create Repository. All your assignments would be needed to be uploaded here.\n",
    "---\n",
    "    \n",
    "## Creating your environment to code\n",
    "\n",
    "There are various ways you can create Python codes.\n",
    "\n",
    "1) Using IDLE - Integrated Development environment for Python\n",
    "\n",
    "    a) Go to https://www.python.org/downloads/\n",
    "    \n",
    "    b) Download the latest version of Python for your operating system\n",
    "\n",
    "2) Using Anaconda (Recommended)\n",
    "\n",
    "    a) Go to https://www.anaconda.com/products/individual\n",
    "    \n",
    "    b) Scroll down to Ananconda Installers\n",
    "    \n",
    "    c) Install Anaconda for your machine and operating system\n",
    "    \n",
    "3) Using Google Colab\n",
    "\n",
    "    a) Go to https://colab.research.google.com/\n",
    "    \n",
    "    b) Login with your google account\n",
    "    \n",
    "    c) You can directly start coding there.\n",
    "\n",
    "---\n",
    "    \n",
    "## How to upload your assignments\n",
    "\n",
    "1) Checking the assignment\n",
    "\n",
    "    a) After each session check on the Files tab next to the Chat\n",
    "    \n",
    "    b) Your assignment will be uploaded there.\n",
    "    \n",
    "2) Uploading your assignment\n",
    "\n",
    "    a) Go to explorer and type Jupyter notebook\n",
    "    \n",
    "    b) Create a new notebook\n",
    "    \n",
    "    c) Solve your assignment.\n",
    "    \n",
    "    d) Create a day wise folder and save your assignment.For Eg: Day1/xxx.ipynb\n",
    "    \n",
    "    e) Go to your Github profile and to the repository LetsUpgrade-AI-ML\n",
    "    \n",
    "    f) Drag and drop your assignment folder on it.\n",
    "    \n",
    "    g) Copy the repository link. (Again ensure that it is public)\n",
    "    \n",
    "    h) Fill the assignment submission form on LetsUpgrade link.\n",
    "    \n",
    "    i) Select the day for which you wish to make the submission.\n",
    "    \n",
    "    j) Paste the github link\n",
    "    \n",
    "    \n",
    "   \n",
    "\n"
   ]
  },
  {
   "cell_type": "code",
   "execution_count": null,
   "metadata": {},
   "outputs": [],
   "source": []
  }
 ],
 "metadata": {
  "kernelspec": {
   "display_name": "Python 3",
   "language": "python",
   "name": "python3"
  },
  "language_info": {
   "codemirror_mode": {
    "name": "ipython",
    "version": 3
   },
   "file_extension": ".py",
   "mimetype": "text/x-python",
   "name": "python",
   "nbconvert_exporter": "python",
   "pygments_lexer": "ipython3",
   "version": "3.7.6"
  }
 },
 "nbformat": 4,
 "nbformat_minor": 4
}
