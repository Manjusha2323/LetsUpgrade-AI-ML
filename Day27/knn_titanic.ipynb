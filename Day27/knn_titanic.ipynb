{
 "cells": [
  {
   "cell_type": "code",
   "execution_count": 79,
   "metadata": {},
   "outputs": [],
   "source": [
    "import pandas as pd\n",
    "import numpy as np\n",
    "from sklearn import preprocessing\n",
    "from sklearn import neighbors\n",
    "from sklearn.model_selection import train_test_split\n",
    "from sklearn.metrics import accuracy_score\n",
    "from sklearn.metrics import confusion_matrix"
   ]
  },
  {
   "cell_type": "code",
   "execution_count": 80,
   "metadata": {},
   "outputs": [],
   "source": [
    "##Calculate results from confusion matrix\n",
    "def interpret_conf_matrix(conf_mat):\n",
    "    tot_sum=np.sum(conf_mat)\n",
    "    diag_sum=sum(np.diag(conf_mat))\n",
    "    rem_sum=tot_sum-diag_sum\n",
    "    return round((diag_sum/tot_sum)*100,2),round((rem_sum/tot_sum)*100,2),diag_sum,rem_sum,tot_sum"
   ]
  },
  {
   "cell_type": "code",
   "execution_count": 81,
   "metadata": {},
   "outputs": [],
   "source": [
    "##Function for calculating k value which gives highest accuracy score\n",
    "def calculate_k_value(dependent_var):\n",
    "    y=knn_ds[dependent_var]\n",
    "    X=knn_ds.drop([dependent_var,'PassengerId','Name','Ticket','Cabin'],axis=1)\n",
    "    X_train,X_test,y_train,y_test=train_test_split(X,y,test_size=0.3,random_state=0)\n",
    "    max_iter=X_test.shape[0]\n",
    "    max_score=0\n",
    "    max_k=1\n",
    "    for i in range(max_iter):\n",
    "        k=i+1\n",
    "        knn=neighbors.KNeighborsClassifier(n_neighbors=k)\n",
    "        acc_score=knn.fit(X_train,y_train).score(X_test,y_test)\n",
    "        if acc_score > max_score:\n",
    "            max_score=acc_score\n",
    "            max_k=k\n",
    "    knn=neighbors.KNeighborsClassifier(n_neighbors=max_k)    \n",
    "    print(\"For depenedent variable '\", dependent_var, \"' accuracy score is :\", knn.fit(X_train,y_train).score(X_test,y_test),\" for k value \",max_k)\n",
    "    y_pred=knn.predict(X_test)\n",
    "    results=interpret_conf_matrix(confusion_matrix(y_test,y_pred))\n",
    "    print(\"Results from Confusion Matrix:\")\n",
    "    print(results[0],\"% records were classified correctly\")\n",
    "    print(results[1],\"% records were classified incorrectly\")\n",
    "    print(\"Out of \",results[4],\" rows \",results[2],\" rows were correctly classified and \",results[3], \" rows were incorrectly classified.\")\n",
    "    print(\"\\n\")\n"
   ]
  },
  {
   "cell_type": "code",
   "execution_count": 83,
   "metadata": {},
   "outputs": [],
   "source": [
    "## Preprocessing\n",
    "knn_ds=pd.read_csv(\"C:/Users/Manzoo/Learning/Day27/Assignments/dataset/train.csv\")\n",
    "knn_ds['Age']=knn_ds['Age'].fillna(knn_ds['Age'].mean())\n",
    "knn_ds['Cabin']=knn_ds['Cabin'].fillna('G6')\n",
    "knn_ds['Embarked']=knn_ds['Embarked'].fillna('S')\n",
    "le=preprocessing.LabelEncoder()\n",
    "knn_ds['Embarked']=le.fit_transform(knn_ds['Embarked'])\n",
    "knn_ds['Sex']=le.fit_transform(knn_ds['Sex'])"
   ]
  },
  {
   "cell_type": "code",
   "execution_count": 84,
   "metadata": {},
   "outputs": [
    {
     "data": {
      "text/plain": [
       "Index(['PassengerId', 'Survived', 'Pclass', 'Name', 'Sex', 'Age', 'SibSp',\n",
       "       'Parch', 'Ticket', 'Fare', 'Cabin', 'Embarked'],\n",
       "      dtype='object')"
      ]
     },
     "execution_count": 84,
     "metadata": {},
     "output_type": "execute_result"
    }
   ],
   "source": [
    "knn_ds.columns\n"
   ]
  },
  {
   "cell_type": "code",
   "execution_count": 85,
   "metadata": {},
   "outputs": [
    {
     "name": "stdout",
     "output_type": "stream",
     "text": [
      "For depenedent variable ' Survived ' accuracy score is : 0.7611940298507462  for k value  37\n",
      "Results from Confusion Matrix:\n",
      "76.12 % records were classified correctly\n",
      "23.88 % records were classified incorrectly\n",
      "Out of  268  rows  204  rows were correctly classified and  64  rows were incorrectly classified.\n",
      "\n",
      "\n",
      "For depenedent variable ' Pclass ' accuracy score is : 0.8544776119402985  for k value  1\n",
      "Results from Confusion Matrix:\n",
      "85.45 % records were classified correctly\n",
      "14.55 % records were classified incorrectly\n",
      "Out of  268  rows  229  rows were correctly classified and  39  rows were incorrectly classified.\n",
      "\n",
      "\n",
      "For depenedent variable ' Sex ' accuracy score is : 0.7014925373134329  for k value  44\n",
      "Results from Confusion Matrix:\n",
      "70.15 % records were classified correctly\n",
      "29.85 % records were classified incorrectly\n",
      "Out of  268  rows  188  rows were correctly classified and  80  rows were incorrectly classified.\n",
      "\n",
      "\n",
      "For depenedent variable ' SibSp ' accuracy score is : 0.753731343283582  for k value  10\n",
      "Results from Confusion Matrix:\n",
      "75.37 % records were classified correctly\n",
      "24.63 % records were classified incorrectly\n",
      "Out of  268  rows  202  rows were correctly classified and  66  rows were incorrectly classified.\n",
      "\n",
      "\n",
      "For depenedent variable ' Parch ' accuracy score is : 0.832089552238806  for k value  3\n",
      "Results from Confusion Matrix:\n",
      "83.21 % records were classified correctly\n",
      "16.79 % records were classified incorrectly\n",
      "Out of  268  rows  223  rows were correctly classified and  45  rows were incorrectly classified.\n",
      "\n",
      "\n",
      "For depenedent variable ' Embarked ' accuracy score is : 0.7798507462686567  for k value  3\n",
      "Results from Confusion Matrix:\n",
      "77.99 % records were classified correctly\n",
      "22.01 % records were classified incorrectly\n",
      "Out of  268  rows  209  rows were correctly classified and  59  rows were incorrectly classified.\n",
      "\n",
      "\n"
     ]
    }
   ],
   "source": [
    "##KNN for the dependent variables\n",
    "dv_list=['Survived','Pclass','Sex','SibSp','Parch','Embarked']\n",
    "for dv in dv_list:\n",
    "    calculate_k_value(dv)\n"
   ]
  },
  {
   "cell_type": "code",
   "execution_count": null,
   "metadata": {},
   "outputs": [],
   "source": []
  }
 ],
 "metadata": {
  "kernelspec": {
   "display_name": "Python 3",
   "language": "python",
   "name": "python3"
  },
  "language_info": {
   "codemirror_mode": {
    "name": "ipython",
    "version": 3
   },
   "file_extension": ".py",
   "mimetype": "text/x-python",
   "name": "python",
   "nbconvert_exporter": "python",
   "pygments_lexer": "ipython3",
   "version": "3.7.6"
  }
 },
 "nbformat": 4,
 "nbformat_minor": 4
}
