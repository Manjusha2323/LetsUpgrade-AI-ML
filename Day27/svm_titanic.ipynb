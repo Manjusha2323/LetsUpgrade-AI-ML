{
 "cells": [
  {
   "cell_type": "code",
   "execution_count": 14,
   "metadata": {},
   "outputs": [],
   "source": [
    "import pandas as pd\n",
    "import numpy as np\n",
    "from sklearn import preprocessing\n",
    "from sklearn import svm\n",
    "from sklearn.model_selection import train_test_split\n",
    "from sklearn.metrics import accuracy_score\n",
    "from sklearn.metrics import confusion_matrix"
   ]
  },
  {
   "cell_type": "code",
   "execution_count": 15,
   "metadata": {},
   "outputs": [],
   "source": [
    "##Calculate results from confusion matrix\n",
    "def interpret_conf_matrix(conf_mat):\n",
    "    tot_sum=np.sum(conf_mat)\n",
    "    diag_sum=sum(np.diag(conf_mat))\n",
    "    rem_sum=tot_sum-diag_sum\n",
    "    return round((diag_sum/tot_sum)*100,2),round((rem_sum/tot_sum)*100,2),diag_sum,rem_sum,tot_sum"
   ]
  },
  {
   "cell_type": "code",
   "execution_count": 16,
   "metadata": {},
   "outputs": [],
   "source": [
    "##Function for calculating accuracy score for svm \n",
    "def perform_svm(dependent_var):\n",
    "    y=svm_ds[dependent_var]\n",
    "    X=svm_ds.drop([dependent_var,'PassengerId','Name','Ticket','Cabin'],axis=1)\n",
    "    X_train,X_test,y_train,y_test=train_test_split(X,y,test_size=0.3,random_state=0)\n",
    "    clf=svm.SVC(gamma=0.01,C=100)\n",
    "    clf.fit(X_train,y_train)\n",
    "    y_pred=clf.predict(X_test)\n",
    "    print(\"For depenedent variable '\", dependent_var, \"' accuracy score is :\", accuracy_score(y_test,y_pred,normalize=True))\n",
    "    results=interpret_conf_matrix(confusion_matrix(y_test,y_pred))\n",
    "    print(\"Results from Confusion Matrix:\")\n",
    "    print(results[0],\"% records were classified correctly\")\n",
    "    print(results[1],\"% records were classified incorrectly\")\n",
    "    print(\"Out of \",results[4],\" rows \",results[2],\" rows were correctly classified and \",results[3], \" rows were incorrectly classified.\")\n",
    "    print(\"\\n\")\n"
   ]
  },
  {
   "cell_type": "code",
   "execution_count": 17,
   "metadata": {},
   "outputs": [],
   "source": [
    "##Pre-processing the data\n",
    "svm_ds=pd.read_csv(\"C:/Users/Manzoo/Learning/Day27/Assignments/dataset/train.csv\")\n",
    "svm_ds['Age']=svm_ds['Age'].fillna(svm_ds['Age'].mean())\n",
    "svm_ds['Cabin']=svm_ds['Cabin'].fillna('G6')\n",
    "svm_ds['Embarked']=svm_ds['Embarked'].fillna('S')\n",
    "le=preprocessing.LabelEncoder()\n",
    "svm_ds['Embarked']=le.fit_transform(svm_ds['Embarked'])\n",
    "svm_ds['Sex']=le.fit_transform(svm_ds['Sex'])"
   ]
  },
  {
   "cell_type": "code",
   "execution_count": 18,
   "metadata": {},
   "outputs": [
    {
     "data": {
      "text/plain": [
       "Index(['PassengerId', 'Survived', 'Pclass', 'Name', 'Sex', 'Age', 'SibSp',\n",
       "       'Parch', 'Ticket', 'Fare', 'Cabin', 'Embarked'],\n",
       "      dtype='object')"
      ]
     },
     "execution_count": 18,
     "metadata": {},
     "output_type": "execute_result"
    }
   ],
   "source": [
    "svm_ds.columns\n"
   ]
  },
  {
   "cell_type": "code",
   "execution_count": 19,
   "metadata": {},
   "outputs": [
    {
     "name": "stdout",
     "output_type": "stream",
     "text": [
      "For depenedent variable ' Survived ' accuracy score is : 0.7611940298507462\n",
      "Results from Confusion Matrix:\n",
      "76.12 % records were classified correctly\n",
      "23.88 % records were classified incorrectly\n",
      "Out of  268  rows  204  rows were correctly classified and  64  rows were incorrectly classified.\n",
      "\n",
      "\n",
      "For depenedent variable ' Pclass ' accuracy score is : 0.8955223880597015\n",
      "Results from Confusion Matrix:\n",
      "89.55 % records were classified correctly\n",
      "10.45 % records were classified incorrectly\n",
      "Out of  268  rows  240  rows were correctly classified and  28  rows were incorrectly classified.\n",
      "\n",
      "\n",
      "For depenedent variable ' Sex ' accuracy score is : 0.75\n",
      "Results from Confusion Matrix:\n",
      "75.0 % records were classified correctly\n",
      "25.0 % records were classified incorrectly\n",
      "Out of  268  rows  201  rows were correctly classified and  67  rows were incorrectly classified.\n",
      "\n",
      "\n",
      "For depenedent variable ' SibSp ' accuracy score is : 0.7425373134328358\n",
      "Results from Confusion Matrix:\n",
      "74.25 % records were classified correctly\n",
      "25.75 % records were classified incorrectly\n",
      "Out of  268  rows  199  rows were correctly classified and  69  rows were incorrectly classified.\n",
      "\n",
      "\n",
      "For depenedent variable ' Parch ' accuracy score is : 0.8283582089552238\n",
      "Results from Confusion Matrix:\n",
      "82.84 % records were classified correctly\n",
      "17.16 % records were classified incorrectly\n",
      "Out of  268  rows  222  rows were correctly classified and  46  rows were incorrectly classified.\n",
      "\n",
      "\n",
      "For depenedent variable ' Embarked ' accuracy score is : 0.746268656716418\n",
      "Results from Confusion Matrix:\n",
      "74.63 % records were classified correctly\n",
      "25.37 % records were classified incorrectly\n",
      "Out of  268  rows  200  rows were correctly classified and  68  rows were incorrectly classified.\n",
      "\n",
      "\n"
     ]
    }
   ],
   "source": [
    "##SVM for the dependent variables\n",
    "dv_list=['Survived','Pclass','Sex','SibSp','Parch','Embarked']\n",
    "for dv in dv_list:\n",
    "    perform_svm(dv)\n"
   ]
  },
  {
   "cell_type": "code",
   "execution_count": null,
   "metadata": {},
   "outputs": [],
   "source": []
  }
 ],
 "metadata": {
  "kernelspec": {
   "display_name": "Python 3",
   "language": "python",
   "name": "python3"
  },
  "language_info": {
   "codemirror_mode": {
    "name": "ipython",
    "version": 3
   },
   "file_extension": ".py",
   "mimetype": "text/x-python",
   "name": "python",
   "nbconvert_exporter": "python",
   "pygments_lexer": "ipython3",
   "version": "3.7.6"
  }
 },
 "nbformat": 4,
 "nbformat_minor": 4
}
