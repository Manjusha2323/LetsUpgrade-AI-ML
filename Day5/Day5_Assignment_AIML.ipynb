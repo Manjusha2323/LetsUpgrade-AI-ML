{
 "cells": [
  {
   "cell_type": "code",
   "execution_count": 6,
   "metadata": {},
   "outputs": [
    {
     "name": "stdout",
     "output_type": "stream",
     "text": [
      "Prime Number  1 :  3\n",
      "Prime Number  2 :  5\n",
      "Prime Number  3 :  7\n",
      "Prime Number  4 :  11\n",
      "Prime Number  5 :  13\n",
      "Prime Number  6 :  17\n",
      "Prime Number  7 :  19\n",
      "Prime Number  8 :  23\n",
      "Prime Number  9 :  29\n",
      "Prime Number  10 :  31\n",
      "Prime Number  11 :  37\n",
      "Prime Number  12 :  41\n",
      "Prime Number  13 :  43\n",
      "Prime Number  14 :  47\n",
      "Prime Number  15 :  53\n",
      "Prime Number  16 :  59\n",
      "Prime Number  17 :  61\n",
      "Prime Number  18 :  67\n",
      "Prime Number  19 :  71\n",
      "Prime Number  20 :  73\n"
     ]
    }
   ],
   "source": [
    "##Question 1 first 20 non - even prime numbers\n",
    "## a prime number is a number which has only 2 divisors\n",
    "\n",
    "## initializing the iterators and count variables\n",
    "div_count=0 \n",
    "\n",
    "i=1 \n",
    "\n",
    "count=0; \n",
    "\n",
    "##outer loop to count the number of prime numbers\n",
    "while count<20:\n",
    "    \n",
    "    ##inner loop to check divisor count\n",
    "    for j in range(1,i+1):\n",
    "        if i%j==0:\n",
    "            div_count=div_count+1\n",
    "                     \n",
    "    ##check the number of divisors and whether number is odd                 \n",
    "    if div_count == 2 and i%2==1: \n",
    "        count=count+1\n",
    "        print(\"Prime Number \", count , \": \", i)\n",
    "    \n",
    "    ##reset counter and iterate over next number\n",
    "    div_count=0\n",
    "    i=i+1"
   ]
  },
  {
   "cell_type": "code",
   "execution_count": 5,
   "metadata": {},
   "outputs": [
    {
     "name": "stdout",
     "output_type": "stream",
     "text": [
      "1: First letter capitalized:      i am having fun learning python since 3 days      EOL\n",
      "2: All lowercase:      i am having fun learning python since 3 days      EOL\n",
      "3: All uppercase:      I AM HAVING FUN LEARNING PYTHON SINCE 3 DAYS      EOL\n",
      "4: Case Swapped:      I AM HAVING FUN LEARNING pYTHON SINCE 3 DAYS      EOL\n",
      "5: Titled :      I Am Having Fun Learning Python Since 3 Days      EOL\n",
      "6: Left trimmed : i am having fun learning Python since 3 days      EOL\n",
      "7: Right trimmed :      i am having fun learning Python since 3 days EOL\n",
      "8: Left and right trimmed: i am having fun learning Python since 3 days EOL\n",
      "9: Split into words into a list : ['', '', '', '', '', 'i', 'am', 'having', 'fun', 'learning', 'Python', 'since', '3', 'days', '', '', '', '', ''] EOL\n",
      "10: Partition the string at a word : ('     i am having fun ', 'learning', ' Python since 3 days     ') EOL\n",
      "11: Replacing a part of the string :      i am enjoying learning Python since 3 days      EOL\n",
      "12: Finding a string within a string and returning position : 10 EOL\n",
      "13: Encoded string : b'     i am having fun learning Python since 3 days     '\n",
      "14: Are all characters alphabets : False\n",
      "14: Are all characters alpha-numeric : False\n"
     ]
    }
   ],
   "source": [
    "##Question 2 - Implement 15 functions of a string\n",
    "str1=\"     i am having fun learning Python since 3 days!     \"\n",
    "\n",
    "##1- capitalize the first character\n",
    "print(\"1: First letter capitalized:\",str1.capitalize(),\"EOL\")\n",
    "\n",
    "##2-print all in lowercase\n",
    "print(\"2: All lowercase:\",str1.lower(),\"EOL\")\n",
    "\n",
    "##3-print all in uppercase\n",
    "print(\"3: All uppercase:\",str1.upper(),\"EOL\")\n",
    "\n",
    "##4-swapcase\n",
    "print(\"4: Case Swapped:\",str1.swapcase(),\"EOL\")\n",
    "\n",
    "##5-first character of each word to uppercase\n",
    "print(\"5: Titled :\",str1.title(),\"EOL\")\n",
    "\n",
    "##6-Left trimmed\n",
    "print(\"6: Left trimmed :\",str1.lstrip(),\"EOL\")\n",
    "\n",
    "##7-Right trimmed\n",
    "print(\"7: Right trimmed :\",str1.rstrip(),\"EOL\")\n",
    "\n",
    "##8-Left and Right trimmed\n",
    "print(\"8: Left and right trimmed:\",str1.strip(),\"EOL\")\n",
    "\n",
    "##9 - split the string into words wherever there is a space\n",
    "print(\"9: Split into words into a list :\",str1.split(\" \"),\"EOL\")\n",
    "\n",
    "##10 - Parition the string at a word\n",
    "print(\"10: Partition the string at a word :\",str1.partition(\"learning\"),\"EOL\")\n",
    "\n",
    "##11 - Replacing a part of the string\n",
    "print(\"11: Replacing a part of the string :\",str1.replace(\"having fun\",\"enjoying\"),\"EOL\")\n",
    "\n",
    "##12 -Finding a string within a string\n",
    "print(\"12: Finding a string within a string and returning position :\",str1.find(\"having fun\"),\"EOL\")\n",
    "\n",
    "##13-Encoding a string\n",
    "print(\"13: Encoded string :\",str1.encode())\n",
    "\n",
    "##14-Returns if all characters are alphabets\n",
    "print(\"14: Are all characters alphabets :\",str1.isalpha())\n",
    "\n",
    "##14-Returns if all characters are alpha-numeric\n",
    "print(\"14: Are all characters alpha-numeric :\",str1.isalnum())\n"
   ]
  },
  {
   "cell_type": "code",
   "execution_count": 23,
   "metadata": {},
   "outputs": [
    {
     "name": "stdout",
     "output_type": "stream",
     "text": [
      "malayalam is a palindrome\n",
      "listen and silent are anagrams\n"
     ]
    }
   ],
   "source": [
    "#Question 3 To check palindrome , anagram\n",
    "\n",
    "str_palin=\"malayalam\"\n",
    "str_ana1=\"listen\"\n",
    "str_ana2=\"silent\"\n",
    "\n",
    "def palindrome_check(str_check):\n",
    "    if str_check.lower()==str_check[::-1].lower(): ##Checking the reverse\n",
    "        print(str_check ,\"is a palindrome\")\n",
    "    else:\n",
    "        print(str_check ,\"is not a palindrome\")\n",
    "    \n",
    "def anagram_check(str_check1,str_check2):\n",
    "    if sorted(str_check1.lower()) == sorted(str_check2.lower()): ##sorting and comparing the strings\n",
    "        print(str_check1 ,\"and\",str_check2,\"are anagrams\")\n",
    "    else:\n",
    "        print(str_check1 ,\"and\",str_check2,\"are not anagrams\")\n",
    "    \n",
    "palindrome_check(str_palin)\n",
    "anagram_check(str_ana1,str_ana2)"
   ]
  },
  {
   "cell_type": "code",
   "execution_count": 46,
   "metadata": {
    "scrolled": true
   },
   "outputs": [
    {
     "name": "stdout",
     "output_type": "stream",
     "text": [
      "Original string : Myself, Manjusha Rao am a AI-ML student!\n",
      "Modified  string : myselfmanjusharaoamaaimlstudent\n"
     ]
    }
   ],
   "source": [
    "#Question 4:Removing additional characters.\n",
    "input_str=\"Myself, Manjusha Rao am a AI-ML student!\"\n",
    "new_str=\"\"\n",
    "for i in input_str:\n",
    "    if i.isalpha():\n",
    "        new_str=new_str+i;\n",
    "print(\"Original string :\",input_str)\n",
    "print(\"Modified  string :\",new_str.lower())"
   ]
  },
  {
   "cell_type": "code",
   "execution_count": null,
   "metadata": {},
   "outputs": [],
   "source": []
  }
 ],
 "metadata": {
  "kernelspec": {
   "display_name": "Python 3",
   "language": "python",
   "name": "python3"
  },
  "language_info": {
   "codemirror_mode": {
    "name": "ipython",
    "version": 3
   },
   "file_extension": ".py",
   "mimetype": "text/x-python",
   "name": "python",
   "nbconvert_exporter": "python",
   "pygments_lexer": "ipython3",
   "version": "3.7.6"
  }
 },
 "nbformat": 4,
 "nbformat_minor": 4
}
